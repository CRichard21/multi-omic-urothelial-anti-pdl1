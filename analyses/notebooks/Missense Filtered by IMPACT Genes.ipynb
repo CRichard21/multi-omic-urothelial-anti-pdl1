{
 "cells": [
  {
   "cell_type": "code",
   "execution_count": 1,
   "metadata": {
    "collapsed": false
   },
   "outputs": [],
   "source": [
    "%load_ext autoreload\n",
    "%autoreload 2\n",
    "\n",
    "import sys \n",
    "from os import getcwd, path\n",
    "sys.path.append(path.dirname(getcwd()))\n",
    "import matplotlib.pyplot as plt\n",
    "import seaborn as sb\n",
    "import pandas as pd\n",
    "%matplotlib inline"
   ]
  },
  {
   "cell_type": "code",
   "execution_count": 2,
   "metadata": {
    "collapsed": true
   },
   "outputs": [],
   "source": [
    "from varcode.effects import Substitution"
   ]
  },
  {
   "cell_type": "code",
   "execution_count": 3,
   "metadata": {
    "collapsed": true
   },
   "outputs": [],
   "source": [
    "from utils import data"
   ]
  },
  {
   "cell_type": "code",
   "execution_count": 4,
   "metadata": {
    "collapsed": false
   },
   "outputs": [],
   "source": [
    "impact_gene_names = pd.read_csv(path.join(data.REPO_DATA_DIR, \"impact_gene_list.csv\")).Hugo_symbol.tolist()"
   ]
  },
  {
   "cell_type": "code",
   "execution_count": 5,
   "metadata": {
    "collapsed": true
   },
   "outputs": [],
   "source": [
    "from pyensembl import EnsemblRelease\n",
    "ensembl = EnsemblRelease(75)"
   ]
  },
  {
   "cell_type": "code",
   "execution_count": 6,
   "metadata": {
    "collapsed": false
   },
   "outputs": [
    {
     "name": "stdout",
     "output_type": "stream",
     "text": [
      "Multiple IDs for gene BTK (['ENSG00000010671', 'ENSG00000268897'])\n",
      "Multiple IDs for gene DAXX (['ENSG00000204209', 'ENSG00000229396', 'ENSG00000231617', 'ENSG00000227046', 'ENSG00000206279', 'ENSG00000206206'])\n",
      "Multiple IDs for gene FGF3 (['ENSG00000186895', 'ENSG00000261155'])\n",
      "Multiple IDs for gene ATRX (['ENSG00000085224', 'ENSG00000268946'])\n",
      "Multiple IDs for gene SDHD (['ENSG00000204370', 'ENSG00000255292'])\n",
      "Multiple IDs for gene HLA-A (['ENSG00000206503', 'ENSG00000223980', 'ENSG00000227715', 'ENSG00000224320', 'ENSG00000231834', 'ENSG00000229215', 'ENSG00000206505', 'ENSG00000235657'])\n",
      "Multiple IDs for gene IKBKE (['ENSG00000143466', 'ENSG00000263528'])\n",
      "No ID for gene CDKN2Ap14ARF\n",
      "Multiple IDs for gene KDM5C (['ENSG00000126012', 'ENSG00000269816'])\n",
      "No ID for gene FAM123B\n",
      "Multiple IDs for gene KMT2A (['ENSG00000118058', 'ENSG00000267910'])\n",
      "Multiple IDs for gene NOTCH4 (['ENSG00000204301', 'ENSG00000234876', 'ENSG00000223355', 'ENSG00000235396', 'ENSG00000232339', 'ENSG00000238196', 'ENSG00000206312'])\n",
      "Multiple IDs for gene MDC1 (['ENSG00000137337', 'ENSG00000231135', 'ENSG00000237095', 'ENSG00000224587', 'ENSG00000228575', 'ENSG00000234012', 'ENSG00000206481', 'ENSG00000225589'])\n",
      "No ID for gene CDKN2Ap16INK4A\n",
      "Multiple IDs for gene GATA1 (['ENSG00000102145', 'ENSG00000267841'])\n",
      "Multiple IDs for gene RBM10 (['ENSG00000182872', 'ENSG00000271352'])\n",
      "Multiple IDs for gene HIST2H3C (['ENSG00000203811', 'ENSG00000270827'])\n",
      "Multiple IDs for gene HIST2H3D (['ENSG00000183598', 'ENSG00000265133'])\n",
      "Multiple IDs for gene CD79A (['ENSG00000105369', 'ENSG00000272985'])\n",
      "Multiple IDs for gene PIK3R2 (['ENSG00000105647', 'ENSG00000268173'])\n"
     ]
    }
   ],
   "source": [
    "impact_gene_ids = []\n",
    "for impact_gene_name in impact_gene_names:\n",
    "    try:\n",
    "        ids = ensembl.gene_ids_of_gene_name(impact_gene_name)\n",
    "    except:\n",
    "        ids = []\n",
    "    if len(ids) == 0:\n",
    "        print(\"No ID for gene %s\" % impact_gene_name)\n",
    "    elif len(ids) > 1:\n",
    "        print(\"Multiple IDs for gene %s (%s)\" % (impact_gene_name, ids))\n",
    "    else:\n",
    "        impact_gene_ids.extend(ids)"
   ]
  },
  {
   "cell_type": "code",
   "execution_count": 7,
   "metadata": {
    "collapsed": false
   },
   "outputs": [],
   "source": [
    "from cohorts.functions import *"
   ]
  },
  {
   "cell_type": "code",
   "execution_count": 8,
   "metadata": {
    "collapsed": false
   },
   "outputs": [],
   "source": [
    "def missense_impact_snv_count(row, cohort, filter_fn=None, normalized_per_mb=None, **kwargs):\n",
    "    from cohorts.variant_filters import no_filter\n",
    "    filter_fn = first_not_none_param([filter_fn, cohort.filter_fn], no_filter)\n",
    "    normalized_per_mb = first_not_none_param([normalized_per_mb, cohort.normalized_per_mb], False)\n",
    "    \n",
    "    patient_id = row[\"patient_id\"]\n",
    "    def impact_filter_fn(filterable_effect):\n",
    "        if filter_fn is not None:\n",
    "            return (filter_fn(filterable_effect) and \n",
    "                    filterable_effect.effect.gene.id in impact_gene_ids)\n",
    "        return filterable_effect.effect.gene.id in impact_gene_ids\n",
    "    return missense_snv_count(row, cohort, filter_fn=impact_filter_fn)"
   ]
  },
  {
   "cell_type": "code",
   "execution_count": 9,
   "metadata": {
    "collapsed": false
   },
   "outputs": [
    {
     "name": "stdout",
     "output_type": "stream",
     "text": [
      "{'dataframe_hash': -2899676230513618006,\n",
      " 'provenance_file_summary': {u'cohorts': u'0.4.0+3.gda968fb',\n",
      "                             u'isovar': u'0.0.6',\n",
      "                             u'mhctools': u'0.3.0',\n",
      "                             u'numpy': u'1.11.1',\n",
      "                             u'pandas': u'0.18.1',\n",
      "                             u'pyensembl': u'1.0.3',\n",
      "                             u'scipy': u'0.18.1',\n",
      "                             u'topiary': u'0.1.0',\n",
      "                             u'varcode': u'0.5.10'}}\n"
     ]
    }
   ],
   "source": [
    "cohort = data.init_cohort()"
   ]
  },
  {
   "cell_type": "code",
   "execution_count": 10,
   "metadata": {
    "collapsed": true
   },
   "outputs": [],
   "source": [
    "from utils.paper import *"
   ]
  },
  {
   "cell_type": "code",
   "execution_count": 11,
   "metadata": {
    "collapsed": false
   },
   "outputs": [
    {
     "name": "stdout",
     "output_type": "stream",
     "text": [
      "inner join with ensembl_coverage: 25 to 25 rows\n",
      "Mann-Whitney test: U=86.5, p-value=0.420406508069 (two-sided)\n",
      "{{{pfs_impact_missense_snv_count_plot}}}\n",
      "{{{pfs_impact_missense_snv_count_benefit:0.13 (range 0.00-0.31)}}}\n",
      "{{{pfs_impact_missense_snv_count_no_benefit:0.046 (range 0.00-0.37)}}}\n",
      "{{{pfs_impact_missense_snv_count_mw:n=25, Mann-Whitney p=0.42}}}\n"
     ]
    },
    {
     "data": {
      "image/png": "[encoded data removed]",
      "text/plain": [
       "<matplotlib.figure.Figure at 0x7fdb0f5fd790>"
      ]
     },
     "metadata": {},
     "output_type": "display_data"
    }
   ],
   "source": [
    "mann_whitney_hyper_label_printer(cohort.plot_benefit(on={\"# Missense SNVs / MB\":\n",
    "                                                         missense_impact_snv_count}),\n",
    "                                     label=\"pfs_impact_missense_snv_count\")"
   ]
  },
  {
   "cell_type": "code",
   "execution_count": 12,
   "metadata": {
    "collapsed": false
   },
   "outputs": [
    {
     "name": "stdout",
     "output_type": "stream",
     "text": [
      "Mann-Whitney test: U=83.5, p-value=0.782189544288 (two-sided)\n",
      "{{{os_impact_missense_snv_count_plot}}}\n",
      "{{{os_impact_missense_snv_count_benefit:0.093 (range 0.00-0.31)}}}\n",
      "{{{os_impact_missense_snv_count_no_benefit:0.074 (range 0.00-0.37)}}}\n",
      "{{{os_impact_missense_snv_count_mw:n=25, Mann-Whitney p=0.78}}}\n"
     ]
    },
    {
     "data": {
      "image/png": "[encoded data removed]",
      "text/plain": [
       "<matplotlib.figure.Figure at 0x7fdb0fced610>"
      ]
     },
     "metadata": {},
     "output_type": "display_data"
    }
   ],
   "source": [
    "mann_whitney_hyper_label_printer(cohort.plot_benefit(on={\"# Missense SNVs / MB\": \n",
    "                                                         missense_impact_snv_count},\n",
    "                                                     benefit_col=\"is_benefit_os\"),\n",
    "                                     label=\"os_impact_missense_snv_count\")"
   ]
  },
  {
   "cell_type": "code",
   "execution_count": null,
   "metadata": {
    "collapsed": true
   },
   "outputs": [],
   "source": []
  }
 ],
 "metadata": {
  "kernelspec": {
   "display_name": "Python 2",
   "language": "python",
   "name": "python2"
  },
  "language_info": {
   "codemirror_mode": {
    "name": "ipython",
    "version": 2
   },
   "file_extension": ".py",
   "mimetype": "text/x-python",
   "name": "python",
   "nbconvert_exporter": "python",
   "pygments_lexer": "ipython2",
   "version": "2.7.11"
  }
 },
 "nbformat": 4,
 "nbformat_minor": 0
}

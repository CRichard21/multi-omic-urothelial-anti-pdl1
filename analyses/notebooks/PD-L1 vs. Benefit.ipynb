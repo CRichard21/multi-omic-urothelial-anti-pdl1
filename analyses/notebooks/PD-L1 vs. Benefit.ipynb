{
 "cells": [
  {
   "cell_type": "code",
   "execution_count": 1,
   "metadata": {
    "collapsed": true
   },
   "outputs": [],
   "source": [
    "import warnings"
   ]
  },
  {
   "cell_type": "code",
   "execution_count": 2,
   "metadata": {
    "collapsed": false
   },
   "outputs": [],
   "source": [
    "warnings.filterwarnings(\"default\", category=DeprecationWarning, module=\"__main__\")"
   ]
  },
  {
   "cell_type": "code",
   "execution_count": 3,
   "metadata": {
    "autoscroll": "json-false",
    "collapsed": false,
    "ein.tags": [
     "worksheet-0"
    ]
   },
   "outputs": [],
   "source": [
    "%load_ext autoreload\n",
    "%autoreload 2\n",
    "\n",
    "import sys \n",
    "from os import getcwd, path\n",
    "sys.path.append(path.dirname(getcwd()))\n",
    "import matplotlib.pyplot as plt\n",
    "import seaborn as sb\n",
    "import pandas as pd\n",
    "%matplotlib inline"
   ]
  },
  {
   "cell_type": "code",
   "execution_count": 4,
   "metadata": {
    "autoscroll": "json-false",
    "collapsed": false,
    "ein.tags": [
     "worksheet-0"
    ]
   },
   "outputs": [],
   "source": [
    "from utils import data"
   ]
  },
  {
   "cell_type": "code",
   "execution_count": 5,
   "metadata": {
    "collapsed": true
   },
   "outputs": [],
   "source": [
    "from utils.paper import *"
   ]
  },
  {
   "cell_type": "code",
   "execution_count": 6,
   "metadata": {
    "autoscroll": "json-false",
    "collapsed": false,
    "ein.tags": [
     "worksheet-0"
    ]
   },
   "outputs": [
    {
     "name": "stdout",
     "output_type": "stream",
     "text": [
      "inner join with pdl1: 29 to 29 rows\n",
      "inner join with pdl1: 29 to 29 rows\n",
      "{'dataframe_hash': 1361907583592967110,\n",
      " 'provenance_file_summary': {u'cohorts': u'0.4.0+3.gda968fb',\n",
      "                             u'isovar': u'0.0.6',\n",
      "                             u'mhctools': u'0.3.0',\n",
      "                             u'numpy': u'1.11.1',\n",
      "                             u'pandas': u'0.18.1',\n",
      "                             u'pyensembl': u'1.0.3',\n",
      "                             u'scipy': u'0.18.1',\n",
      "                             u'topiary': u'0.1.0',\n",
      "                             u'varcode': u'0.5.10'}}\n"
     ]
    }
   ],
   "source": [
    "cohort = data.init_cohort(join_with=\"pdl1\",\n",
    "                          exclude_patient_ids=set(),\n",
    "                          only_patients_with_bams=False)"
   ]
  },
  {
   "cell_type": "code",
   "execution_count": 7,
   "metadata": {
    "autoscroll": "json-false",
    "collapsed": false,
    "ein.tags": [
     "worksheet-0"
    ]
   },
   "outputs": [
    {
     "name": "stdout",
     "output_type": "stream",
     "text": [
      "inner join with pdl1: 29 to 29 rows\n"
     ]
    },
    {
     "name": "stdout",
     "output_type": "stream",
     "text": [
      "PD-L1 IC2  False  True \n",
      "Response               \n",
      "DCB            3      6\n",
      "No DCB        16      4\n",
      "Fisher's Exact Test: OR: 0.125, p-value=0.0316777675099 (two-sided)\n",
      "{{{pdl1_ic2_vs_benefit_plot}}}\n",
      "{{{pdl1_ic2_vs_benefit_benefit:67%}}}\n",
      "{{{pdl1_ic2_vs_benefit_no_benefit:20%}}}\n",
      "{{{pdl1_ic2_vs_benefit_fishers:n=29, Fisher's Exact p=0.032}}}\n"
     ]
    },
    {
     "data": {
      "image/png": "[encoded data removed]",
      "text/plain": [
       "<matplotlib.figure.Figure at 0x7f1903918490>"
      ]
     },
     "metadata": {},
     "output_type": "display_data"
    }
   ],
   "source": [
    "fishers_exact_hyper_label_printer(\n",
    "    cohort.plot_benefit({\"PD-L1 IC2\": lambda row: row[\"IC Level\"] == \"IC2\"}),\n",
    "    label=\"pdl1_ic2_vs_benefit\")"
   ]
  },
  {
   "cell_type": "code",
   "execution_count": 8,
   "metadata": {
    "collapsed": true
   },
   "outputs": [],
   "source": [
    "from scipy.stats import spearmanr"
   ]
  },
  {
   "cell_type": "code",
   "execution_count": 9,
   "metadata": {
    "collapsed": false
   },
   "outputs": [
    {
     "name": "stdout",
     "output_type": "stream",
     "text": [
      "inner join with pdl1: 29 to 29 rows\n",
      "{{{pdl1_any_vs_benefit_plot}}}\n",
      "{{{pdl1_any_vs_benefit_spearmanr:n=29, Spearman rho=0.48 p=0.0083}}}\n"
     ]
    },
    {
     "data": {
      "image/png": "[encoded data removed]",
      "text/plain": [
       "<matplotlib.figure.Figure at 0x7f18f7737110>"
      ]
     },
     "metadata": {},
     "output_type": "display_data"
    }
   ],
   "source": [
    "result = cohort.plot_correlation({\"PD-L1 IC\": lambda row: int(row[\"PD-L1\"].split(\"IC\")[1]),\n",
    "                                    \"Response\": lambda row: row[\"benefit\"]},\n",
    "                                    plot_type=\"barplot\",\n",
    "                                    x_col=\"PD-L1 IC\",\n",
    "                                    stat_func=spearmanr)\n",
    "result.plot.set_xticklabels([\"IC0\", \"IC1\", \"IC2\"])\n",
    "result.plot.set_ylabel(\"Percent \" + cohort.benefit_plot_name)\n",
    "spearmanr_hyper_label_printer(result, label=\"pdl1_any_vs_benefit\")"
   ]
  },
  {
   "cell_type": "code",
   "execution_count": 10,
   "metadata": {
    "collapsed": true
   },
   "outputs": [],
   "source": [
    "from cohorts.model import cohort_mean_bootstrap_auc"
   ]
  },
  {
   "cell_type": "code",
   "execution_count": 11,
   "metadata": {
    "collapsed": true
   },
   "outputs": [],
   "source": [
    "def pdl1(row):\n",
    "    return int(row[\"PD-L1\"].split(\"IC\")[1])"
   ]
  },
  {
   "cell_type": "code",
   "execution_count": 12,
   "metadata": {
    "collapsed": false
   },
   "outputs": [
    {
     "name": "stdout",
     "output_type": "stream",
     "text": [
      "inner join with pdl1: 29 to 29 rows\n"
     ]
    },
    {
     "data": {
      "text/plain": [
       "0.77547411346456419"
      ]
     },
     "execution_count": 12,
     "metadata": {},
     "output_type": "execute_result"
    }
   ],
   "source": [
    "cohort_mean_bootstrap_auc(cohort, pdl1)"
   ]
  },
  {
   "cell_type": "code",
   "execution_count": 13,
   "metadata": {
    "collapsed": true
   },
   "outputs": [],
   "source": []
  }
 ],
 "metadata": {
  "kernelspec": {
   "display_name": "Python 2",
   "language": "python",
   "name": "python2"
  },
  "language_info": {
   "codemirror_mode": {
    "name": "ipython",
    "version": 2
   },
   "file_extension": ".py",
   "mimetype": "text/x-python",
   "name": "python",
   "nbconvert_exporter": "python",
   "pygments_lexer": "ipython2",
   "version": "2.7.11"
  },
  "name": "PD-L1.ipynb"
 },
 "nbformat": 4,
 "nbformat_minor": 0
}

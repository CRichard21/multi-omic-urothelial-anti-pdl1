{
 "cells": [
  {
   "cell_type": "code",
   "execution_count": 1,
   "metadata": {
    "autoscroll": "json-false",
    "collapsed": false,
    "ein.tags": [
     "worksheet-0"
    ]
   },
   "outputs": [],
   "source": [
    "%load_ext autoreload\n",
    "%autoreload 2\n",
    "\n",
    "import sys \n",
    "from os import getcwd, path\n",
    "sys.path.append(path.dirname(getcwd()))\n",
    "import matplotlib.pyplot as plt\n",
    "import seaborn as sb\n",
    "import numpy as np\n",
    "import pandas as pd\n",
    "%matplotlib inline"
   ]
  },
  {
   "cell_type": "code",
   "execution_count": 2,
   "metadata": {
    "autoscroll": "json-false",
    "collapsed": false,
    "ein.tags": [
     "worksheet-0"
    ]
   },
   "outputs": [],
   "source": [
    "from utils import data"
   ]
  },
  {
   "cell_type": "code",
   "execution_count": 3,
   "metadata": {
    "collapsed": false
   },
   "outputs": [],
   "source": [
    "from cohorts.utils import first_not_none_param\n",
    "from cohorts.variant_filters import no_filter\n",
    "from varcode.effects import Substitution"
   ]
  },
  {
   "cell_type": "code",
   "execution_count": 4,
   "metadata": {
    "autoscroll": "json-false",
    "collapsed": false,
    "ein.tags": [
     "worksheet-0"
    ]
   },
   "outputs": [
    {
     "name": "stdout",
     "output_type": "stream",
     "text": [
      "Overriding VCF dir (/home/tavi/ct/bladder/vcfs-indelrealigned-bqsr) to use without-BQSR VCFs: /home/tavi/ct/bladder/vcfs\n"
     ]
    },
    {
     "name": "stdout",
     "output_type": "stream",
     "text": [
      "{'dataframe_hash': -2899676230513618006,\n",
      " 'provenance_file_summary': {u'cohorts': u'0.4.0+2.g78ce133',\n",
      "                             u'isovar': u'0.0.6',\n",
      "                             u'mhctools': u'0.3.0',\n",
      "                             u'numpy': u'1.11.1',\n",
      "                             u'pandas': u'0.18.1',\n",
      "                             u'pyensembl': u'1.0.1',\n",
      "                             u'scipy': u'0.18.1',\n",
      "                             u'topiary': u'0.1.0',\n",
      "                             u'varcode': u'0.5.2+1.gb8119b4'}}\n"
     ]
    }
   ],
   "source": [
    "cohort_without_bqsr = data.init_cohort(\n",
    "    without_bqsr=True,\n",
    "    cache_data_dir=\"/home/tavi/bladder-analyses/data/cache-without-bqsr\")"
   ]
  },
  {
   "cell_type": "code",
   "execution_count": 5,
   "metadata": {
    "collapsed": false
   },
   "outputs": [
    {
     "name": "stdout",
     "output_type": "stream",
     "text": [
      "Overriding VCF dir (/home/tavi/ct/bladder/vcfs-indelrealigned-bqsr) to use without-BQSR VCFs: /home/tavi/ct/bladder/vcfs\n"
     ]
    },
    {
     "name": "stdout",
     "output_type": "stream",
     "text": [
      "{'dataframe_hash': -2899676230513618006,\n",
      " 'provenance_file_summary': {u'cohorts': u'0.4.0+2.g78ce133',\n",
      "                             u'isovar': u'0.0.6',\n",
      "                             u'mhctools': u'0.3.0',\n",
      "                             u'numpy': u'1.11.1',\n",
      "                             u'pandas': u'0.18.1',\n",
      "                             u'pyensembl': u'1.0.1',\n",
      "                             u'scipy': u'0.18.1',\n",
      "                             u'topiary': u'0.1.0',\n",
      "                             u'varcode': u'0.5.2+1.gb8119b4'}}\n"
     ]
    }
   ],
   "source": [
    "cohort_without_bqsr_or_filters = data.init_cohort(\n",
    "    without_bqsr=True,\n",
    "    filter_fn=no_filter,\n",
    "    cache_data_dir=\"/home/tavi/bladder-analyses/data/cache-without-bqsr\")"
   ]
  },
  {
   "cell_type": "code",
   "execution_count": 6,
   "metadata": {
    "collapsed": false
   },
   "outputs": [
    {
     "name": "stdout",
     "output_type": "stream",
     "text": [
      "{'dataframe_hash': -2899676230513618006,\n",
      " 'provenance_file_summary': {u'cohorts': u'0.4.0+3.gda968fb',\n",
      "                             u'isovar': u'0.0.6',\n",
      "                             u'mhctools': u'0.3.0',\n",
      "                             u'numpy': u'1.11.1',\n",
      "                             u'pandas': u'0.18.1',\n",
      "                             u'pyensembl': u'1.0.3',\n",
      "                             u'scipy': u'0.18.1',\n",
      "                             u'topiary': u'0.1.0',\n",
      "                             u'varcode': u'0.5.10'}}\n"
     ]
    }
   ],
   "source": [
    "cohort_with_bqsr = data.init_cohort()"
   ]
  },
  {
   "cell_type": "code",
   "execution_count": 7,
   "metadata": {
    "collapsed": true
   },
   "outputs": [],
   "source": [
    "def missense_effects(cohort, filter_fn=None):\n",
    "    filter_fn = first_not_none_param([filter_fn, cohort.filter_fn], no_filter)\n",
    "    def missense_filter_fn(filterable_effect):\n",
    "        assert filter_fn is not None, \"filter_fn should never be None, but it is.\"\n",
    "        return (type(filterable_effect.effect) == Substitution and\n",
    "                filter_fn(filterable_effect))\n",
    "    return cohort.load_effects(\n",
    "        only_nonsynonymous=True,\n",
    "        filter_fn=missense_filter_fn)"
   ]
  },
  {
   "cell_type": "code",
   "execution_count": 8,
   "metadata": {
    "collapsed": false
   },
   "outputs": [],
   "source": [
    "with_bqsr_effects = missense_effects(cohort_with_bqsr)"
   ]
  },
  {
   "cell_type": "code",
   "execution_count": 9,
   "metadata": {
    "collapsed": false
   },
   "outputs": [],
   "source": [
    "without_bqsr_effects = missense_effects(cohort_without_bqsr)"
   ]
  },
  {
   "cell_type": "code",
   "execution_count": 10,
   "metadata": {
    "collapsed": true
   },
   "outputs": [],
   "source": [
    "without_bqsr_or_filters_effects = missense_effects(cohort_without_bqsr_or_filters)"
   ]
  },
  {
   "cell_type": "code",
   "execution_count": 11,
   "metadata": {
    "collapsed": false
   },
   "outputs": [],
   "source": [
    "def num_bqsr_with_without(row):\n",
    "    patient_id = row[\"patient_id\"]\n",
    "    # Effects aren't hashable\n",
    "    with_bqsr_effects_patient = set([effect.variant for effect in with_bqsr_effects[patient_id]])\n",
    "    without_bqsr_effects_patient = set([effect.variant for effect in without_bqsr_effects[patient_id]])\n",
    "    return len(without_bqsr_effects_patient.difference(with_bqsr_effects_patient))"
   ]
  },
  {
   "cell_type": "code",
   "execution_count": 12,
   "metadata": {
    "collapsed": true
   },
   "outputs": [],
   "source": [
    "def num_bqsr_with_without_or_filters(row):\n",
    "    patient_id = row[\"patient_id\"]\n",
    "    # Effects aren't hashable\n",
    "    with_bqsr_effects_patient = set([effect.variant for effect in with_bqsr_effects[patient_id]])\n",
    "    without_bqsr_or_filters_effects_patient = set([effect.variant for effect in without_bqsr_or_filters_effects[patient_id]])\n",
    "    return len(without_bqsr_or_filters_effects_patient.difference(with_bqsr_effects_patient))"
   ]
  },
  {
   "cell_type": "code",
   "execution_count": 13,
   "metadata": {
    "collapsed": true
   },
   "outputs": [],
   "source": [
    "from cohorts.functions import *"
   ]
  },
  {
   "cell_type": "code",
   "execution_count": 14,
   "metadata": {
    "collapsed": true
   },
   "outputs": [],
   "source": [
    "from utils.paper import *"
   ]
  },
  {
   "cell_type": "code",
   "execution_count": 15,
   "metadata": {
    "collapsed": false
   },
   "outputs": [
    {
     "name": "stdout",
     "output_type": "stream",
     "text": [
      "Mann-Whitney test: U=104.5, p-value=0.0678354181387 (two-sided)\n",
      "{{{bqsr_diff_plot}}}\n",
      "{{{bqsr_diff_benefit:14.00 (range 2.00-219.00)}}}\n",
      "{{{bqsr_diff_no_benefit:3.00 (range 0.00-69.00)}}}\n",
      "{{{bqsr_diff_mw:n=25, Mann-Whitney p=0.068}}}\n"
     ]
    },
    {
     "data": {
      "image/png": "[encoded data removed]",
      "text/plain": [
       "<matplotlib.figure.Figure at 0x7f368e9b7610>"
      ]
     },
     "metadata": {},
     "output_type": "display_data"
    }
   ],
   "source": [
    "mann_whitney_hyper_label_printer(cohort_with_bqsr.plot_benefit(num_bqsr_with_without),\n",
    "                                 label=\"bqsr_diff\")"
   ]
  },
  {
   "cell_type": "code",
   "execution_count": 16,
   "metadata": {
    "collapsed": false
   },
   "outputs": [
    {
     "name": "stdout",
     "output_type": "stream",
     "text": [
      "Mann-Whitney test: U=119.5, p-value=0.00778250321954 (two-sided)\n",
      "{{{bqsr_and_filter_diff_plot}}}\n",
      "{{{bqsr_and_filter_diff_benefit:196.00 (range 53.00-399.00)}}}\n",
      "{{{bqsr_and_filter_diff_no_benefit:76.00 (range 16.00-553.00)}}}\n",
      "{{{bqsr_and_filter_diff_mw:n=25, Mann-Whitney p=0.0078}}}\n"
     ]
    },
    {
     "data": {
      "image/png": "[encoded data removed]",
      "text/plain": [
       "<matplotlib.figure.Figure at 0x7f368d828550>"
      ]
     },
     "metadata": {},
     "output_type": "display_data"
    }
   ],
   "source": [
    "mann_whitney_hyper_label_printer(cohort_with_bqsr.plot_benefit(\n",
    "        num_bqsr_with_without_or_filters), label=\"bqsr_and_filter_diff\")"
   ]
  },
  {
   "cell_type": "code",
   "execution_count": 17,
   "metadata": {
    "collapsed": true
   },
   "outputs": [],
   "source": []
  }
 ],
 "metadata": {
  "kernelspec": {
   "display_name": "Python 2",
   "language": "python",
   "name": "python2"
  },
  "language_info": {
   "codemirror_mode": {
    "name": "ipython",
    "version": 2
   },
   "file_extension": ".py",
   "mimetype": "text/x-python",
   "name": "python",
   "nbconvert_exporter": "python",
   "pygments_lexer": "ipython2",
   "version": "2.7.11"
  },
  "name": "TCR Clonality.ipynb"
 },
 "nbformat": 4,
 "nbformat_minor": 0
}

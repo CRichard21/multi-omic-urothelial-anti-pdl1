{
 "cells": [
  {
   "cell_type": "code",
   "execution_count": 1,
   "metadata": {
    "ExecuteTime": {
     "end_time": "2016-08-17T07:58:06.468311",
     "start_time": "2016-08-17T07:58:04.883583"
    },
    "autoscroll": "json-false",
    "collapsed": false,
    "ein.tags": [
     "worksheet-0"
    ]
   },
   "outputs": [],
   "source": [
    "%load_ext autoreload\n",
    "%autoreload 2\n",
    "\n",
    "import sys \n",
    "from os import getcwd, path\n",
    "sys.path.append(path.dirname(getcwd()))\n",
    "import matplotlib.pyplot as plt\n",
    "import seaborn as sb\n",
    "import numpy as np\n",
    "import pandas as pd\n",
    "import pprint\n",
    "from cohorts.functions import *\n",
    "import lifelines as ll\n",
    "import patsy\n",
    "import functools\n",
    "import survivalstan\n",
    "from cohorts.utils import strip_column_names\n",
    "%matplotlib inline"
   ]
  },
  {
   "cell_type": "code",
   "execution_count": 2,
   "metadata": {
    "collapsed": true
   },
   "outputs": [],
   "source": [
    "## set seeds for stan & rngs, to aid in reproducibility\n",
    "## (note: only reproducible within a machine, not across machines)\n",
    "\n",
    "seed = 91038753\n",
    "import random\n",
    "random.seed(seed)"
   ]
  },
  {
   "cell_type": "code",
   "execution_count": 3,
   "metadata": {
    "ExecuteTime": {
     "end_time": "2016-08-17T07:58:06.519332",
     "start_time": "2016-08-17T07:58:06.499244"
    },
    "autoscroll": "json-false",
    "collapsed": false,
    "ein.tags": [
     "worksheet-0"
    ]
   },
   "outputs": [],
   "source": [
    "from utils import data\n",
    "from utils import paper\n",
    "from utils.extra_functions import *"
   ]
  },
  {
   "cell_type": "markdown",
   "metadata": {},
   "source": [
    "# prep data "
   ]
  },
  {
   "cell_type": "markdown",
   "metadata": {},
   "source": [
    "## load data"
   ]
  },
  {
   "cell_type": "code",
   "execution_count": 4,
   "metadata": {
    "ExecuteTime": {
     "end_time": "2016-08-17T07:58:11.840853",
     "start_time": "2016-08-17T07:58:06.520959"
    },
    "collapsed": false
   },
   "outputs": [
    {
     "name": "stdout",
     "output_type": "stream",
     "text": [
      "inner join with tcr_peripheral_a: 25 to 25 rows\n",
      "inner join with ensembl_coverage: 25 to 25 rows\n"
     ]
    },
    {
     "name": "stdout",
     "output_type": "stream",
     "text": [
      "inner join with tcr_peripheral_a: 25 to 25 rows\n",
      "inner join with ensembl_coverage: 25 to 25 rows\n",
      "{'dataframe_hash': 7698303973572390439,\n",
      " 'provenance_file_summary': {u'cohorts': u'0.4.0+3.gda968fb',\n",
      "                             u'isovar': u'0.0.6',\n",
      "                             u'mhctools': u'0.3.0',\n",
      "                             u'numpy': u'1.11.1',\n",
      "                             u'pandas': u'0.18.1',\n",
      "                             u'pyensembl': u'1.0.3',\n",
      "                             u'scipy': u'0.18.1',\n",
      "                             u'topiary': u'0.1.0',\n",
      "                             u'varcode': u'0.5.10'}}\n"
     ]
    }
   ],
   "source": [
    "cohort = data.init_cohort(join_with=[\"ensembl_coverage\",\"tcr_peripheral_a\"])"
   ]
  },
  {
   "cell_type": "code",
   "execution_count": 5,
   "metadata": {
    "ExecuteTime": {
     "end_time": "2016-08-17T07:59:21.487992",
     "start_time": "2016-08-17T07:58:11.931783"
    },
    "collapsed": false
   },
   "outputs": [
    {
     "name": "stdout",
     "output_type": "stream",
     "text": [
      "inner join with tcr_peripheral_a: 25 to 25 rows\n",
      "inner join with ensembl_coverage: 25 to 25 rows\n"
     ]
    },
    {
     "name": "stdout",
     "output_type": "stream",
     "text": [
      "inner join with ensembl_coverage: 25 to 25 rows\n"
     ]
    }
   ],
   "source": [
    "def tcell_fraction(row):\n",
    "    return row[\"T-cell fraction\"]\n",
    "\n",
    "def peripheral_clonality_a(row):\n",
    "    return row['Clonality']\n",
    "\n",
    "cols, d = cohort.as_dataframe([snv_count,\n",
    "                               missense_snv_count,\n",
    "                               neoantigen_count,\n",
    "                               expressed_exonic_snv_count,\n",
    "                               expressed_missense_snv_count,\n",
    "                               expressed_neoantigen_count,\n",
    "                               exonic_snv_count,\n",
    "                               peripheral_clonality_a,\n",
    "                               tcell_fraction,\n",
    "                               ],\n",
    "                              rename_cols=True,\n",
    "                              return_cols=True)"
   ]
  },
  {
   "cell_type": "code",
   "execution_count": 6,
   "metadata": {
    "ExecuteTime": {
     "end_time": "2016-08-17T07:59:21.537104",
     "start_time": "2016-08-17T07:59:21.513702"
    },
    "collapsed": false
   },
   "outputs": [
    {
     "data": {
      "text/plain": [
       "['snv_count',\n",
       " 'missense_snv_count',\n",
       " 'neoantigen_count',\n",
       " 'expressed_exonic_snv_count',\n",
       " 'expressed_missense_snv_count',\n",
       " 'expressed_neoantigen_count',\n",
       " 'exonic_snv_count',\n",
       " 'peripheral_clonality_a',\n",
       " 'tcell_fraction']"
      ]
     },
     "execution_count": 6,
     "metadata": {},
     "output_type": "execute_result"
    }
   ],
   "source": [
    "cols"
   ]
  },
  {
   "cell_type": "markdown",
   "metadata": {},
   "source": [
    "## construct/rescale variables"
   ]
  },
  {
   "cell_type": "code",
   "execution_count": 7,
   "metadata": {
    "ExecuteTime": {
     "end_time": "2016-08-17T07:59:21.559557",
     "start_time": "2016-08-17T07:59:21.539192"
    },
    "collapsed": true
   },
   "outputs": [],
   "source": [
    "## add/modify count variables\n",
    "d['nonexonic_snv_count'] = d.snv_count - d.exonic_snv_count\n",
    "cols.append('nonexonic_snv_count')"
   ]
  },
  {
   "cell_type": "code",
   "execution_count": 8,
   "metadata": {
    "ExecuteTime": {
     "end_time": "2016-08-17T07:59:22.132709",
     "start_time": "2016-08-17T07:59:22.081884"
    },
    "collapsed": true
   },
   "outputs": [],
   "source": [
    "## create 'observed', log-transformed & centered versions of variables (not normalized by MB)\n",
    "for col in cols:\n",
    "    observed_col = 'observed_{}'.format(col)\n",
    "    log_col = 'log_{}'.format(col)\n",
    "    log_col_centered = 'log_{}_centered'.format(col)\n",
    "    log_col_rescaled = 'log_{}_rescaled'.format(col)\n",
    "    d[observed_col] = d[col]*d['mb']\n",
    "    d[log_col] = np.log1p(d[observed_col])\n",
    "    d[log_col_centered] = d[log_col] - np.mean(d[log_col])\n",
    "    d[log_col_rescaled] = d[log_col_centered]/np.std(d[log_col_centered])\n",
    "\n",
    "## save key vars in list for future use\n",
    "vars_centered = ['log_{}_centered'.format(col) for col in cols]\n",
    "vars_rescaled = ['log_{}_rescaled'.format(col) for col in cols]"
   ]
  },
  {
   "cell_type": "code",
   "execution_count": 9,
   "metadata": {
    "ExecuteTime": {
     "end_time": "2016-08-17T07:59:22.174374",
     "start_time": "2016-08-17T07:59:22.134744"
    },
    "collapsed": false
   },
   "outputs": [],
   "source": [
    "## construct new variables for key ratios / comparisons\n",
    "\n",
    "# what proportion of X are expressed?\n",
    "d['exonic_expression_ratio'] = d.expressed_exonic_snv_count / d.exonic_snv_count\n",
    "d['missense_expression_ratio'] = d.expressed_missense_snv_count / d.missense_snv_count\n",
    "d['neoantigen_expression_ratio'] = d.expressed_neoantigen_count / d.neoantigen_count\n",
    "\n",
    "# d['expressed_missense2snv_ratio'] = d.expressed_missense_snv_count / d.expressed_snv_count\n",
    "d['missense2exonic_snv_ratio'] = d.missense_snv_count / d.exonic_snv_count\n",
    "d['expressed_neoantigen2missense_ratio'] = d.expressed_neoantigen_count / d.expressed_missense_snv_count\n",
    "\n",
    "extra_cols = ['missense_expression_ratio','neoantigen_expression_ratio', 'exonic_expression_ratio', 'missense2exonic_snv_ratio','expressed_neoantigen2missense_ratio']\n",
    "## create recentered versions of ratios\n",
    "for col in extra_cols:\n",
    "    col_centered = '{}_centered'.format(col)\n",
    "    col_rescaled = '{}_rescaled'.format(col)\n",
    "    d[col_centered] = d[col] - np.mean(d[col])\n",
    "    d[col_rescaled] = d[col_centered]/np.std(d[col_centered])\n",
    "\n",
    "## append extra-cols to key var lists\n",
    "vars_centered.extend(['{}_centered'.format(col) for col in extra_cols])\n",
    "vars_rescaled.extend(['{}_rescaled'.format(col) for col in extra_cols])\n"
   ]
  },
  {
   "cell_type": "markdown",
   "metadata": {},
   "source": [
    "## center variables by mean within PD-L1 group"
   ]
  },
  {
   "cell_type": "code",
   "execution_count": 10,
   "metadata": {
    "ExecuteTime": {
     "end_time": "2016-08-17T07:59:22.220909",
     "start_time": "2016-08-17T07:59:22.199735"
    },
    "collapsed": false
   },
   "outputs": [],
   "source": [
    "## identify list of variables to center\n",
    "metrics = list(cols)\n",
    "metrics.extend(extra_cols)\n"
   ]
  },
  {
   "cell_type": "code",
   "execution_count": 11,
   "metadata": {
    "collapsed": false
   },
   "outputs": [],
   "source": [
    "metrics2 = list(metrics)\n",
    "metrics2.extend(['pd_l1'])\n",
    "assert(not 'pd_l1' in metrics)\n",
    "log_metrics2 = ['log_{}'.format(var) for var in metrics2]\n",
    "metrics2.extend(log_metrics2)"
   ]
  },
  {
   "cell_type": "code",
   "execution_count": 12,
   "metadata": {
    "ExecuteTime": {
     "end_time": "2016-08-17T07:59:22.242582",
     "start_time": "2016-08-17T07:59:22.222780"
    },
    "collapsed": false
   },
   "outputs": [],
   "source": [
    "grp_metrics = [var for var in metrics2 if var in d.columns]"
   ]
  },
  {
   "cell_type": "code",
   "execution_count": 13,
   "metadata": {
    "ExecuteTime": {
     "end_time": "2016-08-17T07:59:22.275217",
     "start_time": "2016-08-17T07:59:22.244289"
    },
    "collapsed": false
   },
   "outputs": [],
   "source": [
    "# center variables by group\n",
    "bygrp = d.loc[:, grp_metrics]\n",
    "bygrp = bygrp.groupby('pd_l1').transform(lambda x: x - x.mean())\n",
    "bygrp['patient_id'] = d.patient_id"
   ]
  },
  {
   "cell_type": "code",
   "execution_count": 14,
   "metadata": {
    "ExecuteTime": {
     "end_time": "2016-08-17T07:59:22.301832",
     "start_time": "2016-08-17T07:59:22.276693"
    },
    "collapsed": true
   },
   "outputs": [],
   "source": [
    "# merge recentered variables back into original dataframe\n",
    "df = pd.merge(d, bygrp, on = 'patient_id', suffixes = ['', '_centered_by_pd_l1'])"
   ]
  },
  {
   "cell_type": "markdown",
   "metadata": {},
   "source": [
    "# prep data for survival analysis (long format)"
   ]
  },
  {
   "cell_type": "code",
   "execution_count": 15,
   "metadata": {
    "ExecuteTime": {
     "end_time": "2016-08-17T07:59:22.420738",
     "start_time": "2016-08-17T07:59:22.356618"
    },
    "collapsed": false
   },
   "outputs": [],
   "source": [
    "## prep dflong_pfs which will be used for survival analysis using stan\n",
    "df_long_pfs = survivalstan.prep_data_long_surv(df = df,\n",
    "                                               event_col = 'is_progressed_or_deceased',\n",
    "                                               time_col = 'pfs')"
   ]
  },
  {
   "cell_type": "markdown",
   "metadata": {},
   "source": [
    "# multivariate analysis using varying-coef model"
   ]
  },
  {
   "cell_type": "code",
   "execution_count": 16,
   "metadata": {
    "ExecuteTime": {
     "end_time": "2016-08-17T08:27:09.524216",
     "start_time": "2016-08-17T08:27:09.501719"
    },
    "collapsed": false
   },
   "outputs": [
    {
     "name": "stdout",
     "output_type": "stream",
     "text": [
      "../utils/stan/logistic_model.stan\n",
      "../utils/stan/pem_survival_model_randomwalk_custom_coefs_expressed_missense_and_neoant_mutations.stan\n",
      "../utils/stan/logistic_model_by_group.stan\n",
      "../utils/stan/pem_survival_model_unstructured_varcoef.stan\n",
      "../utils/stan/pem_survival_model_unstructured_varcoef_hsprior.stan\n",
      "../utils/stan/pem_survival_model_randomwalk_tvc.stan\n",
      "../utils/stan/pem_survival_model_randomwalk_alt.stan\n",
      "../utils/stan/pem_survival_model_randomwalk_bspline_est_xi.stan\n",
      "../utils/stan/pem_survival_model_varying_coefs3.stan\n",
      "../utils/stan/pem_survival_model_randomwalk.stan\n",
      "../utils/stan/pem_survival_model_randomwalk_custom_coefs_rate_only.stan\n",
      "../utils/stan/pem_survival_model_gamma.stan\n",
      "../utils/stan/pem_survival_model_randomwalk_custom_coefs_missense_and_neoant_rates.stan\n",
      "../utils/stan/pem_survival_model_randomwalk_tvc2.stan\n",
      "../utils/stan/pem_survival_model_varying_coefs2.stan\n",
      "../utils/stan/pem_survival_model_varying_coefs4.stan\n",
      "../utils/stan/pem_survival_model_randomwalk_bspline_est_xi2.stan\n",
      "../utils/stan/pem_survival_model_randomwalk_bspline.stan\n",
      "../utils/stan/pem_survival_model_randomwalk2.stan\n",
      "../utils/stan/pem_survival_model_randomwalk_bspline2.stan\n"
     ]
    }
   ],
   "source": [
    "models = survivalstan.utils.read_files('../utils/stan')"
   ]
  },
  {
   "cell_type": "code",
   "execution_count": 17,
   "metadata": {
    "collapsed": true
   },
   "outputs": [],
   "source": [
    "survstan_pfs_varcoef = functools.partial(\n",
    "    survivalstan.fit_stan_survival_model,\n",
    "    df = df_long_pfs,\n",
    "    model_code = models['pem_survival_model_unstructured_varcoef.stan'],\n",
    "    timepoint_end_col = 'end_time',\n",
    "    event_col = 'end_failure',\n",
    "    sample_col = 'patient_id',\n",
    "    chains = 4,\n",
    "    iter = 10000,\n",
    "    grp_coef_type = 'vector-of-vectors',\n",
    "    seed = seed,\n",
    "    )\n"
   ]
  },
  {
   "cell_type": "markdown",
   "metadata": {},
   "source": [
    "## summarize varying-coef model for missense_snv_count by pd-l1"
   ]
  },
  {
   "cell_type": "code",
   "execution_count": 18,
   "metadata": {
    "collapsed": false
   },
   "outputs": [
    {
     "name": "stdout",
     "output_type": "stream",
     "text": [
      "NOT reusing model.\n"
     ]
    },
    {
     "name": "stdout",
     "output_type": "stream",
     "text": [
      "Ran in 161.237 sec.\n"
     ]
    },
    {
     "name": "stderr",
     "output_type": "stream",
     "text": [
      "/home/tavi/miniconda2/lib/python2.7/site-packages/stanity/psis.py:228: FutureWarning: elementwise comparison failed; returning scalar instead, but in the future will perform elementwise comparison\n",
      "  elif sort == 'in-place':\n",
      "/home/tavi/miniconda2/lib/python2.7/site-packages/stanity/psis.py:246: VisibleDeprecationWarning: using a non-integer number instead of an integer will result in an error in the future\n",
      "  bs /= 3 * x[sort[np.floor(n/4 + 0.5) - 1]]\n"
     ]
    }
   ],
   "source": [
    "testfit = survstan_pfs_varcoef(formula = 'log_missense_snv_count_centered_by_pd_l1', \n",
    "                               group_col = 'pd_l1',\n",
    "                              )"
   ]
  },
  {
   "cell_type": "code",
   "execution_count": 19,
   "metadata": {
    "collapsed": false
   },
   "outputs": [
    {
     "name": "stdout",
     "output_type": "stream",
     "text": [
      "{{{hr_missense_by_pdl1_pfs}}}\n"
     ]
    },
    {
     "data": {
      "image/png": "[encoded data removed]",
      "text/plain": [
       "<matplotlib.figure.Figure at 0x7fa98e3e2a10>"
      ]
     },
     "metadata": {},
     "output_type": "display_data"
    }
   ],
   "source": [
    "paper.hyper_figure_label_printer('hr_missense_by_pdl1_pfs')\n",
    "#testfit['grp_coefs']['exp(beta)'] = np.exp(testfit['grp_coefs']['value'])\n",
    "sb.boxplot(data=testfit['grp_coefs'], x='exp(beta)', y='group', fliersize=0, whis=[2.5, 97.5])\n",
    "_ = plt.xlim([0, 4])\n",
    "_ = plt.vlines(1, -10, 10, linestyles='--')\n",
    "_ = plt.ylabel('')\n",
    "#_ = plt.title('Hazard associated with log(missense SNV count / MB) \\n by level of intratumoral PD-L1 expression')\n",
    "_ = plt.xlabel('HR for {}'.format(cohort.hazard_plot_name))"
   ]
  },
  {
   "cell_type": "code",
   "execution_count": 20,
   "metadata": {
    "collapsed": false
   },
   "outputs": [
    {
     "name": "stdout",
     "output_type": "stream",
     "text": [
      "{{{hr_missense_pfs_among_IC0:n=4, HR=1.43, 95% CI (0.75, 2.98)}}}\n",
      "{{{hr_missense_pfs_among_IC1:n=11, HR=0.75, 95% CI (0.47, 1.14)}}}\n",
      "{{{hr_missense_pfs_among_IC2:n=10, HR=0.73, 95% CI (0.48, 1.06)}}}\n"
     ]
    }
   ],
   "source": [
    "testfit['grp_coefs']['group_label'] = testfit['grp_coefs'].group.apply(\n",
    "    lambda x: 'hr_missense_pfs_among_{}'.format(x)\n",
    ")\n",
    "for (name, ic_class), group in testfit['grp_coefs'].groupby(['group_label','group']):\n",
    "    group_n = len(df.loc[df.pd_l1==ic_class,'pd_l1'])\n",
    "    paper.hyper_label_printer(formatter=paper.hr_posterior_formatter, label=name, n=group_n, series=group['exp(beta)'])"
   ]
  },
  {
   "cell_type": "code",
   "execution_count": 21,
   "metadata": {
    "collapsed": false
   },
   "outputs": [
    {
     "name": "stdout",
     "output_type": "stream",
     "text": [
      "{{{pval_missense_pfs_interaction:0.046}}}\n"
     ]
    }
   ],
   "source": [
    "## bayesian p-value for interaction\n",
    "comparison = pd.pivot_table(testfit['grp_coefs'],\n",
    "                  index = ['iter', 'model_cohort', 'variable'],\n",
    "                  values = 'value', columns = 'group')\n",
    "print('{{{%s:%s}}}' % ('pval_missense_pfs_interaction', paper.float_str(1-(comparison.eval('IC2 < IC0').mean()))))"
   ]
  }
 ],
 "metadata": {
  "kernelspec": {
   "display_name": "Python 2",
   "language": "python",
   "name": "python2"
  },
  "language_info": {
   "codemirror_mode": {
    "name": "ipython",
    "version": 2
   },
   "file_extension": ".py",
   "mimetype": "text/x-python",
   "name": "python",
   "nbconvert_exporter": "python",
   "pygments_lexer": "ipython2",
   "version": "2.7.11"
  },
  "name": "TCR Clonality.ipynb",
  "nav_menu": {},
  "toc": {
   "navigate_menu": true,
   "number_sections": true,
   "sideBar": true,
   "threshold": 6,
   "toc_cell": false,
   "toc_section_display": "block",
   "toc_window_display": true
  },
  "toc_position": {
   "height": "877px",
   "left": "0px",
   "right": "2073px",
   "top": "106px",
   "width": "538px"
  }
 },
 "nbformat": 4,
 "nbformat_minor": 0
}

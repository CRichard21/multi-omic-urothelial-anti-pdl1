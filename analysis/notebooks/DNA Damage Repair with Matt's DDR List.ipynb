{
 "cells": [
  {
   "cell_type": "code",
   "execution_count": 1,
   "metadata": {
    "collapsed": false
   },
   "outputs": [],
   "source": [
    "import sys \n",
    "from os import getcwd, path\n",
    "sys.path.append(path.dirname(getcwd()))\n",
    "from os import path, getcwd, environ\n",
    "import pandas as pd\n",
    "import numpy as np\n",
    "from utils import data\n",
    "\n",
    "%matplotlib inline\n",
    "import matplotlib.pyplot as plt"
   ]
  },
  {
   "cell_type": "code",
   "execution_count": 2,
   "metadata": {
    "collapsed": false
   },
   "outputs": [
    {
     "name": "stdout",
     "output_type": "stream",
     "text": [
      "{'dataframe_hash': -2899676230513618006,\n",
      " 'provenance_file_summary': {u'cohorts': u'0.4.0+3.gda968fb',\n",
      "                             u'isovar': u'0.0.6',\n",
      "                             u'mhctools': u'0.3.0',\n",
      "                             u'numpy': u'1.11.1',\n",
      "                             u'pandas': u'0.18.1',\n",
      "                             u'pyensembl': u'1.0.3',\n",
      "                             u'scipy': u'0.18.1',\n",
      "                             u'topiary': u'0.1.0',\n",
      "                             u'varcode': u'0.5.10'}}\n"
     ]
    }
   ],
   "source": [
    "cohort = data.init_cohort()\n",
    "df_annotations = cohort.load_polyphen_annotations(as_dataframe=True)\n",
    "df_annotations = df_annotations[df_annotations.annotation_found]\n",
    "df_annotations[\"chr_short\"] = df_annotations.chrom.apply(lambda s: s.split(\"chr\")[1])"
   ]
  },
  {
   "cell_type": "code",
   "execution_count": 3,
   "metadata": {
    "collapsed": false
   },
   "outputs": [],
   "source": [
    "df_ddr_genes = pd.read_excel(\n",
    "    path.join(data.REPO_DATA_DIR, \"ddr_gene_list.xlsx\"))"
   ]
  },
  {
   "cell_type": "code",
   "execution_count": 4,
   "metadata": {
    "collapsed": false
   },
   "outputs": [],
   "source": [
    "ddr_cols = list(df_ddr_genes.columns)\n",
    "ddr_cols.remove(\"CellSig\")\n",
    "ddr_cols.remove(\"Lit\")\n",
    "ddr_cols = ddr_cols[1:11]"
   ]
  },
  {
   "cell_type": "code",
   "execution_count": 5,
   "metadata": {
    "collapsed": false
   },
   "outputs": [],
   "source": [
    "def keep_gene(row):\n",
    "    gene = row[\"Gene\"]\n",
    "    for ddr_col in ddr_cols:\n",
    "        if str(row[ddr_col]).strip() == \"1\":\n",
    "            return True\n",
    "    return False"
   ]
  },
  {
   "cell_type": "code",
   "execution_count": 6,
   "metadata": {
    "collapsed": false
   },
   "outputs": [],
   "source": [
    "df_ddr_genes[\"keep_gene\"] = df_ddr_genes.apply(keep_gene, axis=1)"
   ]
  },
  {
   "cell_type": "code",
   "execution_count": 7,
   "metadata": {
    "collapsed": true
   },
   "outputs": [],
   "source": [
    "ddr_gene_names = set(df_ddr_genes[df_ddr_genes.keep_gene].Gene)"
   ]
  },
  {
   "cell_type": "code",
   "execution_count": 8,
   "metadata": {
    "collapsed": false
   },
   "outputs": [
    {
     "data": {
      "text/plain": [
       "406"
      ]
     },
     "execution_count": 8,
     "metadata": {},
     "output_type": "execute_result"
    }
   ],
   "source": [
    "len(df_ddr_genes)"
   ]
  },
  {
   "cell_type": "code",
   "execution_count": 9,
   "metadata": {
    "collapsed": false
   },
   "outputs": [
    {
     "data": {
      "text/plain": [
       "352"
      ]
     },
     "execution_count": 9,
     "metadata": {},
     "output_type": "execute_result"
    }
   ],
   "source": [
    "len(ddr_gene_names)"
   ]
  },
  {
   "cell_type": "code",
   "execution_count": 10,
   "metadata": {
    "collapsed": false
   },
   "outputs": [],
   "source": [
    "aliases = pd.read_csv(path.join(data.REPO_DATA_DIR, \"Homo_sapiens.gene_info\"), delimiter=\"\\t\")"
   ]
  },
  {
   "cell_type": "code",
   "execution_count": 11,
   "metadata": {
    "collapsed": false
   },
   "outputs": [],
   "source": [
    "synmap = {}\n",
    "for i, row in aliases.iterrows():\n",
    "    symbol = row[\"Symbol\"]\n",
    "    syns = set(row[\"Synonyms\"].split(\"|\"))\n",
    "    if \"-\" in syns:\n",
    "        syns.remove(\"-\")\n",
    "    syns.add(symbol)\n",
    "    new_syns = set()\n",
    "    for syn in syns:\n",
    "        new_syns.add(syn.upper())\n",
    "        new_syns.add(syn)\n",
    "    syns = new_syns\n",
    "    for syn in syns:\n",
    "        synmap[syn] = syns"
   ]
  },
  {
   "cell_type": "code",
   "execution_count": 12,
   "metadata": {
    "collapsed": true
   },
   "outputs": [],
   "source": [
    "id_map = {\"MGC90512\": \"ENSG00000242537\",\n",
    "          \"MRE11B\": \"ENSG00000242537\",\n",
    "          \"FLJ35220\": \"ENSG00000173818\",\n",
    "          \"SE20-4\": \"ENSG00000184205\"}"
   ]
  },
  {
   "cell_type": "code",
   "execution_count": 13,
   "metadata": {
    "collapsed": false
   },
   "outputs": [
    {
     "name": "stdout",
     "output_type": "stream",
     "text": [
      "Alias not found for MYT2\n"
     ]
    }
   ],
   "source": [
    "from pyensembl import cached_release\n",
    "ensembl = cached_release(\"75\")\n",
    "ddr_genes = set()\n",
    "for gene_name in ddr_gene_names:\n",
    "    def get_gene(gene_name):\n",
    "        all_possible_genes = set()\n",
    "        if gene_name.upper() in id_map.keys():\n",
    "            all_possible_genes = set([ensembl.gene_by_id(id_map[gene_name.upper()])])\n",
    "        else:\n",
    "            if gene_name.upper() not in synmap:\n",
    "                return None\n",
    "            syns = synmap[gene_name.upper()]\n",
    "            for syn in syns:\n",
    "                try:\n",
    "                    possible_genes = ensembl.genes_by_name(syn)\n",
    "                except:\n",
    "                    continue\n",
    "                for possible_gene in possible_genes:\n",
    "                    all_possible_genes.add(possible_gene) \n",
    "        if len(all_possible_genes) == 0:\n",
    "            return None\n",
    "        return all_possible_genes\n",
    "    genes = get_gene(gene_name)\n",
    "    if genes is not None:\n",
    "        for gene in genes:\n",
    "            ddr_genes.add(gene)\n",
    "    else:\n",
    "        print(\"Alias not found for %s\" % gene_name)"
   ]
  },
  {
   "cell_type": "code",
   "execution_count": 14,
   "metadata": {
    "collapsed": false
   },
   "outputs": [],
   "source": [
    "ddr_annotations = []\n",
    "for gene in ddr_genes:\n",
    "    df_annotations_gene = df_annotations[\n",
    "        (df_annotations.chr_short == gene.contig) & \n",
    "        (df_annotations.pos >= gene.start) &\n",
    "        (df_annotations.pos <= gene.end)]\n",
    "    if len(df_annotations_gene) > 0:\n",
    "        ddr_annotations.append(df_annotations_gene)\n",
    "df_ddr_annotations = pd.concat(ddr_annotations)"
   ]
  },
  {
   "cell_type": "code",
   "execution_count": 15,
   "metadata": {
    "collapsed": false
   },
   "outputs": [
    {
     "data": {
      "text/html": [
       "<div>\n",
       "<table border=\"1\" class=\"dataframe\">\n",
       "  <thead>\n",
       "    <tr style=\"text-align: right;\">\n",
       "      <th></th>\n",
       "      <th>chrom</th>\n",
       "      <th>pos</th>\n",
       "      <th>ref</th>\n",
       "      <th>alt</th>\n",
       "      <th>annotation_found</th>\n",
       "      <th>gene</th>\n",
       "      <th>protein</th>\n",
       "      <th>aa_change</th>\n",
       "      <th>hvar_pred</th>\n",
       "      <th>hvar_prob</th>\n",
       "      <th>hdiv_pred</th>\n",
       "      <th>hdiv_prob</th>\n",
       "      <th>patient_id</th>\n",
       "      <th>chr_short</th>\n",
       "    </tr>\n",
       "  </thead>\n",
       "  <tbody>\n",
       "    <tr>\n",
       "      <th>1481</th>\n",
       "      <td>chr2</td>\n",
       "      <td>48023086</td>\n",
       "      <td>G</td>\n",
       "      <td>A</td>\n",
       "      <td>True</td>\n",
       "      <td>MSH6</td>\n",
       "      <td>P52701-2</td>\n",
       "      <td>E171K</td>\n",
       "      <td>benign</td>\n",
       "      <td>0.060</td>\n",
       "      <td>benign</td>\n",
       "      <td>0.065</td>\n",
       "      <td>2131</td>\n",
       "      <td>2</td>\n",
       "    </tr>\n",
       "    <tr>\n",
       "      <th>405</th>\n",
       "      <td>chr10</td>\n",
       "      <td>112341725</td>\n",
       "      <td>G</td>\n",
       "      <td>A</td>\n",
       "      <td>True</td>\n",
       "      <td>SMC3</td>\n",
       "      <td>Q9UQE7</td>\n",
       "      <td>E198K</td>\n",
       "      <td>possibly damaging</td>\n",
       "      <td>0.765</td>\n",
       "      <td>probably damaging</td>\n",
       "      <td>0.969</td>\n",
       "      <td>2131</td>\n",
       "      <td>10</td>\n",
       "    </tr>\n",
       "    <tr>\n",
       "      <th>557</th>\n",
       "      <td>chr3</td>\n",
       "      <td>37067192</td>\n",
       "      <td>C</td>\n",
       "      <td>T</td>\n",
       "      <td>True</td>\n",
       "      <td>MLH1</td>\n",
       "      <td>P40692</td>\n",
       "      <td>S368L</td>\n",
       "      <td>benign</td>\n",
       "      <td>0.011</td>\n",
       "      <td>benign</td>\n",
       "      <td>0.016</td>\n",
       "      <td>5122</td>\n",
       "      <td>3</td>\n",
       "    </tr>\n",
       "    <tr>\n",
       "      <th>2486</th>\n",
       "      <td>chr8</td>\n",
       "      <td>141521728</td>\n",
       "      <td>C</td>\n",
       "      <td>G</td>\n",
       "      <td>True</td>\n",
       "      <td>CHRAC1</td>\n",
       "      <td>Q9NRG0</td>\n",
       "      <td>L44V</td>\n",
       "      <td>benign</td>\n",
       "      <td>0.038</td>\n",
       "      <td>benign</td>\n",
       "      <td>0.103</td>\n",
       "      <td>0040</td>\n",
       "      <td>8</td>\n",
       "    </tr>\n",
       "    <tr>\n",
       "      <th>37</th>\n",
       "      <td>chr1</td>\n",
       "      <td>76345769</td>\n",
       "      <td>C</td>\n",
       "      <td>T</td>\n",
       "      <td>True</td>\n",
       "      <td>MSH4</td>\n",
       "      <td>O15457</td>\n",
       "      <td>S571L</td>\n",
       "      <td>possibly damaging</td>\n",
       "      <td>0.543</td>\n",
       "      <td>possibly damaging</td>\n",
       "      <td>0.775</td>\n",
       "      <td>1849</td>\n",
       "      <td>1</td>\n",
       "    </tr>\n",
       "    <tr>\n",
       "      <th>799</th>\n",
       "      <td>chr19</td>\n",
       "      <td>49510391</td>\n",
       "      <td>G</td>\n",
       "      <td>A</td>\n",
       "      <td>True</td>\n",
       "      <td>RUVBL2</td>\n",
       "      <td>B3KNL2</td>\n",
       "      <td>G94S</td>\n",
       "      <td>probably damaging</td>\n",
       "      <td>0.997</td>\n",
       "      <td>probably damaging</td>\n",
       "      <td>1.000</td>\n",
       "      <td>2849</td>\n",
       "      <td>19</td>\n",
       "    </tr>\n",
       "    <tr>\n",
       "      <th>1385</th>\n",
       "      <td>chr19</td>\n",
       "      <td>18966045</td>\n",
       "      <td>G</td>\n",
       "      <td>A</td>\n",
       "      <td>True</td>\n",
       "      <td>UPF1</td>\n",
       "      <td>Q92900-2</td>\n",
       "      <td>G513D</td>\n",
       "      <td>benign</td>\n",
       "      <td>0.071</td>\n",
       "      <td>benign</td>\n",
       "      <td>0.086</td>\n",
       "      <td>0040</td>\n",
       "      <td>19</td>\n",
       "    </tr>\n",
       "    <tr>\n",
       "      <th>574</th>\n",
       "      <td>chr19</td>\n",
       "      <td>18965421</td>\n",
       "      <td>G</td>\n",
       "      <td>A</td>\n",
       "      <td>True</td>\n",
       "      <td>UPF1</td>\n",
       "      <td>Q92900-2</td>\n",
       "      <td>E390K</td>\n",
       "      <td>possibly damaging</td>\n",
       "      <td>0.753</td>\n",
       "      <td>possibly damaging</td>\n",
       "      <td>0.942</td>\n",
       "      <td>6800</td>\n",
       "      <td>19</td>\n",
       "    </tr>\n",
       "    <tr>\n",
       "      <th>273</th>\n",
       "      <td>chr12</td>\n",
       "      <td>4655502</td>\n",
       "      <td>G</td>\n",
       "      <td>C</td>\n",
       "      <td>True</td>\n",
       "      <td>RAD51AP1</td>\n",
       "      <td>Q96B01-2</td>\n",
       "      <td>Q79H</td>\n",
       "      <td>probably damaging</td>\n",
       "      <td>0.939</td>\n",
       "      <td>probably damaging</td>\n",
       "      <td>0.999</td>\n",
       "      <td>2937</td>\n",
       "      <td>12</td>\n",
       "    </tr>\n",
       "    <tr>\n",
       "      <th>2720</th>\n",
       "      <td>chrX</td>\n",
       "      <td>135584986</td>\n",
       "      <td>G</td>\n",
       "      <td>C</td>\n",
       "      <td>True</td>\n",
       "      <td>HTATSF1</td>\n",
       "      <td>O43719</td>\n",
       "      <td>R207T</td>\n",
       "      <td>probably damaging</td>\n",
       "      <td>0.986</td>\n",
       "      <td>probably damaging</td>\n",
       "      <td>0.999</td>\n",
       "      <td>2131</td>\n",
       "      <td>X</td>\n",
       "    </tr>\n",
       "    <tr>\n",
       "      <th>13</th>\n",
       "      <td>chr1</td>\n",
       "      <td>3624149</td>\n",
       "      <td>A</td>\n",
       "      <td>C</td>\n",
       "      <td>True</td>\n",
       "      <td>TP73</td>\n",
       "      <td>O15350</td>\n",
       "      <td>M75L</td>\n",
       "      <td>benign</td>\n",
       "      <td>0.000</td>\n",
       "      <td>benign</td>\n",
       "      <td>0.000</td>\n",
       "      <td>1249</td>\n",
       "      <td>1</td>\n",
       "    </tr>\n",
       "    <tr>\n",
       "      <th>1061</th>\n",
       "      <td>chr17</td>\n",
       "      <td>33329785</td>\n",
       "      <td>G</td>\n",
       "      <td>T</td>\n",
       "      <td>True</td>\n",
       "      <td>LIG3</td>\n",
       "      <td>E5KLB6</td>\n",
       "      <td>D925Y</td>\n",
       "      <td>benign</td>\n",
       "      <td>0.440</td>\n",
       "      <td>possibly damaging</td>\n",
       "      <td>0.924</td>\n",
       "      <td>2131</td>\n",
       "      <td>17</td>\n",
       "    </tr>\n",
       "    <tr>\n",
       "      <th>355</th>\n",
       "      <td>chr11</td>\n",
       "      <td>68673674</td>\n",
       "      <td>C</td>\n",
       "      <td>T</td>\n",
       "      <td>True</td>\n",
       "      <td>IGHMBP2</td>\n",
       "      <td>P38935</td>\n",
       "      <td>A75V</td>\n",
       "      <td>benign</td>\n",
       "      <td>0.003</td>\n",
       "      <td>benign</td>\n",
       "      <td>0.021</td>\n",
       "      <td>5037</td>\n",
       "      <td>11</td>\n",
       "    </tr>\n",
       "    <tr>\n",
       "      <th>1264</th>\n",
       "      <td>chr6</td>\n",
       "      <td>43555016</td>\n",
       "      <td>G</td>\n",
       "      <td>A</td>\n",
       "      <td>True</td>\n",
       "      <td>POLH</td>\n",
       "      <td>Q9Y253</td>\n",
       "      <td>E94K</td>\n",
       "      <td>benign</td>\n",
       "      <td>0.405</td>\n",
       "      <td>possibly damaging</td>\n",
       "      <td>0.756</td>\n",
       "      <td>2849</td>\n",
       "      <td>6</td>\n",
       "    </tr>\n",
       "    <tr>\n",
       "      <th>482</th>\n",
       "      <td>chr2</td>\n",
       "      <td>152322420</td>\n",
       "      <td>C</td>\n",
       "      <td>G</td>\n",
       "      <td>True</td>\n",
       "      <td>RIF1</td>\n",
       "      <td>Q5UIP0-2</td>\n",
       "      <td>S2129C</td>\n",
       "      <td>benign</td>\n",
       "      <td>0.074</td>\n",
       "      <td>benign</td>\n",
       "      <td>0.205</td>\n",
       "      <td>5122</td>\n",
       "      <td>2</td>\n",
       "    </tr>\n",
       "    <tr>\n",
       "      <th>2561</th>\n",
       "      <td>chr9</td>\n",
       "      <td>106880654</td>\n",
       "      <td>G</td>\n",
       "      <td>C</td>\n",
       "      <td>True</td>\n",
       "      <td>SMC2</td>\n",
       "      <td>Q2KQ72</td>\n",
       "      <td>G665A</td>\n",
       "      <td>probably damaging</td>\n",
       "      <td>1.000</td>\n",
       "      <td>probably damaging</td>\n",
       "      <td>1.000</td>\n",
       "      <td>0040</td>\n",
       "      <td>9</td>\n",
       "    </tr>\n",
       "    <tr>\n",
       "      <th>374</th>\n",
       "      <td>chr11</td>\n",
       "      <td>108205807</td>\n",
       "      <td>G</td>\n",
       "      <td>A</td>\n",
       "      <td>True</td>\n",
       "      <td>ATM</td>\n",
       "      <td>Q13315</td>\n",
       "      <td>D2708N</td>\n",
       "      <td>probably damaging</td>\n",
       "      <td>1.000</td>\n",
       "      <td>probably damaging</td>\n",
       "      <td>1.000</td>\n",
       "      <td>5037</td>\n",
       "      <td>11</td>\n",
       "    </tr>\n",
       "    <tr>\n",
       "      <th>935</th>\n",
       "      <td>chrX</td>\n",
       "      <td>24745098</td>\n",
       "      <td>C</td>\n",
       "      <td>A</td>\n",
       "      <td>True</td>\n",
       "      <td>POLA1</td>\n",
       "      <td>P09884</td>\n",
       "      <td>H475N</td>\n",
       "      <td>possibly damaging</td>\n",
       "      <td>0.880</td>\n",
       "      <td>probably damaging</td>\n",
       "      <td>0.957</td>\n",
       "      <td>0471</td>\n",
       "      <td>X</td>\n",
       "    </tr>\n",
       "    <tr>\n",
       "      <th>628</th>\n",
       "      <td>chr3</td>\n",
       "      <td>10076860</td>\n",
       "      <td>G</td>\n",
       "      <td>A</td>\n",
       "      <td>True</td>\n",
       "      <td>FANCD2</td>\n",
       "      <td>Q9BXW9-4</td>\n",
       "      <td>M127I</td>\n",
       "      <td>benign</td>\n",
       "      <td>0.002</td>\n",
       "      <td>benign</td>\n",
       "      <td>0.000</td>\n",
       "      <td>2389</td>\n",
       "      <td>3</td>\n",
       "    </tr>\n",
       "    <tr>\n",
       "      <th>788</th>\n",
       "      <td>chr8</td>\n",
       "      <td>30999012</td>\n",
       "      <td>G</td>\n",
       "      <td>A</td>\n",
       "      <td>True</td>\n",
       "      <td>WRN</td>\n",
       "      <td>Q14191</td>\n",
       "      <td>E1012K</td>\n",
       "      <td>possibly damaging</td>\n",
       "      <td>0.650</td>\n",
       "      <td>possibly damaging</td>\n",
       "      <td>0.710</td>\n",
       "      <td>1849</td>\n",
       "      <td>8</td>\n",
       "    </tr>\n",
       "    <tr>\n",
       "      <th>1383</th>\n",
       "      <td>chr8</td>\n",
       "      <td>11640828</td>\n",
       "      <td>G</td>\n",
       "      <td>A</td>\n",
       "      <td>True</td>\n",
       "      <td>NEIL2</td>\n",
       "      <td>Q969S2</td>\n",
       "      <td>R203Q</td>\n",
       "      <td>probably damaging</td>\n",
       "      <td>0.991</td>\n",
       "      <td>probably damaging</td>\n",
       "      <td>1.000</td>\n",
       "      <td>2849</td>\n",
       "      <td>8</td>\n",
       "    </tr>\n",
       "    <tr>\n",
       "      <th>478</th>\n",
       "      <td>chr2</td>\n",
       "      <td>113326455</td>\n",
       "      <td>C</td>\n",
       "      <td>G</td>\n",
       "      <td>True</td>\n",
       "      <td>POLR1B</td>\n",
       "      <td>Q9H9Y6</td>\n",
       "      <td>R684G</td>\n",
       "      <td>probably damaging</td>\n",
       "      <td>1.000</td>\n",
       "      <td>probably damaging</td>\n",
       "      <td>1.000</td>\n",
       "      <td>5122</td>\n",
       "      <td>2</td>\n",
       "    </tr>\n",
       "    <tr>\n",
       "      <th>253</th>\n",
       "      <td>chr11</td>\n",
       "      <td>67163284</td>\n",
       "      <td>G</td>\n",
       "      <td>A</td>\n",
       "      <td>True</td>\n",
       "      <td>RAD9A</td>\n",
       "      <td>Q99638</td>\n",
       "      <td>E183K</td>\n",
       "      <td>probably damaging</td>\n",
       "      <td>0.998</td>\n",
       "      <td>probably damaging</td>\n",
       "      <td>1.000</td>\n",
       "      <td>2849</td>\n",
       "      <td>11</td>\n",
       "    </tr>\n",
       "    <tr>\n",
       "      <th>1754</th>\n",
       "      <td>chr7</td>\n",
       "      <td>6777016</td>\n",
       "      <td>C</td>\n",
       "      <td>T</td>\n",
       "      <td>True</td>\n",
       "      <td>PMS2CL</td>\n",
       "      <td>Q68D20</td>\n",
       "      <td>T99M</td>\n",
       "      <td>benign</td>\n",
       "      <td>0.001</td>\n",
       "      <td>benign</td>\n",
       "      <td>0.048</td>\n",
       "      <td>5037</td>\n",
       "      <td>7</td>\n",
       "    </tr>\n",
       "    <tr>\n",
       "      <th>2229</th>\n",
       "      <td>chr6</td>\n",
       "      <td>88317444</td>\n",
       "      <td>G</td>\n",
       "      <td>C</td>\n",
       "      <td>True</td>\n",
       "      <td>ORC3L</td>\n",
       "      <td>Q9UBD5-2</td>\n",
       "      <td>D161H</td>\n",
       "      <td>probably damaging</td>\n",
       "      <td>0.965</td>\n",
       "      <td>probably damaging</td>\n",
       "      <td>1.000</td>\n",
       "      <td>0040</td>\n",
       "      <td>6</td>\n",
       "    </tr>\n",
       "  </tbody>\n",
       "</table>\n",
       "</div>"
      ],
      "text/plain": [
       "      chrom        pos ref alt annotation_found      gene   protein aa_change  \\\n",
       "1481   chr2   48023086   G   A             True      MSH6  P52701-2     E171K   \n",
       "405   chr10  112341725   G   A             True      SMC3    Q9UQE7     E198K   \n",
       "557    chr3   37067192   C   T             True      MLH1    P40692     S368L   \n",
       "2486   chr8  141521728   C   G             True    CHRAC1    Q9NRG0      L44V   \n",
       "37     chr1   76345769   C   T             True      MSH4    O15457     S571L   \n",
       "799   chr19   49510391   G   A             True    RUVBL2    B3KNL2      G94S   \n",
       "1385  chr19   18966045   G   A             True      UPF1  Q92900-2     G513D   \n",
       "574   chr19   18965421   G   A             True      UPF1  Q92900-2     E390K   \n",
       "273   chr12    4655502   G   C             True  RAD51AP1  Q96B01-2      Q79H   \n",
       "2720   chrX  135584986   G   C             True   HTATSF1    O43719     R207T   \n",
       "13     chr1    3624149   A   C             True      TP73    O15350      M75L   \n",
       "1061  chr17   33329785   G   T             True      LIG3    E5KLB6     D925Y   \n",
       "355   chr11   68673674   C   T             True   IGHMBP2    P38935      A75V   \n",
       "1264   chr6   43555016   G   A             True      POLH    Q9Y253      E94K   \n",
       "482    chr2  152322420   C   G             True      RIF1  Q5UIP0-2    S2129C   \n",
       "2561   chr9  106880654   G   C             True      SMC2    Q2KQ72     G665A   \n",
       "374   chr11  108205807   G   A             True       ATM    Q13315    D2708N   \n",
       "935    chrX   24745098   C   A             True     POLA1    P09884     H475N   \n",
       "628    chr3   10076860   G   A             True    FANCD2  Q9BXW9-4     M127I   \n",
       "788    chr8   30999012   G   A             True       WRN    Q14191    E1012K   \n",
       "1383   chr8   11640828   G   A             True     NEIL2    Q969S2     R203Q   \n",
       "478    chr2  113326455   C   G             True    POLR1B    Q9H9Y6     R684G   \n",
       "253   chr11   67163284   G   A             True     RAD9A    Q99638     E183K   \n",
       "1754   chr7    6777016   C   T             True    PMS2CL    Q68D20      T99M   \n",
       "2229   chr6   88317444   G   C             True     ORC3L  Q9UBD5-2     D161H   \n",
       "\n",
       "              hvar_pred  hvar_prob          hdiv_pred  hdiv_prob patient_id  \\\n",
       "1481             benign      0.060             benign      0.065       2131   \n",
       "405   possibly damaging      0.765  probably damaging      0.969       2131   \n",
       "557              benign      0.011             benign      0.016       5122   \n",
       "2486             benign      0.038             benign      0.103       0040   \n",
       "37    possibly damaging      0.543  possibly damaging      0.775       1849   \n",
       "799   probably damaging      0.997  probably damaging      1.000       2849   \n",
       "1385             benign      0.071             benign      0.086       0040   \n",
       "574   possibly damaging      0.753  possibly damaging      0.942       6800   \n",
       "273   probably damaging      0.939  probably damaging      0.999       2937   \n",
       "2720  probably damaging      0.986  probably damaging      0.999       2131   \n",
       "13               benign      0.000             benign      0.000       1249   \n",
       "1061             benign      0.440  possibly damaging      0.924       2131   \n",
       "355              benign      0.003             benign      0.021       5037   \n",
       "1264             benign      0.405  possibly damaging      0.756       2849   \n",
       "482              benign      0.074             benign      0.205       5122   \n",
       "2561  probably damaging      1.000  probably damaging      1.000       0040   \n",
       "374   probably damaging      1.000  probably damaging      1.000       5037   \n",
       "935   possibly damaging      0.880  probably damaging      0.957       0471   \n",
       "628              benign      0.002             benign      0.000       2389   \n",
       "788   possibly damaging      0.650  possibly damaging      0.710       1849   \n",
       "1383  probably damaging      0.991  probably damaging      1.000       2849   \n",
       "478   probably damaging      1.000  probably damaging      1.000       5122   \n",
       "253   probably damaging      0.998  probably damaging      1.000       2849   \n",
       "1754             benign      0.001             benign      0.048       5037   \n",
       "2229  probably damaging      0.965  probably damaging      1.000       0040   \n",
       "\n",
       "     chr_short  \n",
       "1481         2  \n",
       "405         10  \n",
       "557          3  \n",
       "2486         8  \n",
       "37           1  \n",
       "799         19  \n",
       "1385        19  \n",
       "574         19  \n",
       "273         12  \n",
       "2720         X  \n",
       "13           1  \n",
       "1061        17  \n",
       "355         11  \n",
       "1264         6  \n",
       "482          2  \n",
       "2561         9  \n",
       "374         11  \n",
       "935          X  \n",
       "628          3  \n",
       "788          8  \n",
       "1383         8  \n",
       "478          2  \n",
       "253         11  \n",
       "1754         7  \n",
       "2229         6  "
      ]
     },
     "execution_count": 15,
     "metadata": {},
     "output_type": "execute_result"
    }
   ],
   "source": [
    "df_ddr_annotations"
   ]
  },
  {
   "cell_type": "code",
   "execution_count": 16,
   "metadata": {
    "collapsed": true
   },
   "outputs": [],
   "source": [
    "def num_ddr(row, allowed):\n",
    "    patient_id = row[\"patient_id\"]\n",
    "    df_ddr_patient = df_ddr_annotations[df_ddr_annotations.patient_id == patient_id]\n",
    "    df_ddr_patient = df_ddr_patient[df_ddr_patient.hvar_pred.isin(allowed)]\n",
    "    return len(df_ddr_patient)"
   ]
  },
  {
   "cell_type": "code",
   "execution_count": 17,
   "metadata": {
    "collapsed": true
   },
   "outputs": [],
   "source": [
    "def num_ddr_probably(row):\n",
    "    return num_ddr(row, allowed=[\"probably damaging\"])"
   ]
  },
  {
   "cell_type": "code",
   "execution_count": 18,
   "metadata": {
    "collapsed": true
   },
   "outputs": [],
   "source": [
    "def num_ddr_possibly(row):\n",
    "    return num_ddr(row, allowed=[\"possibly damaging\", \"probably damaging\"])"
   ]
  },
  {
   "cell_type": "code",
   "execution_count": 19,
   "metadata": {
    "collapsed": true
   },
   "outputs": [],
   "source": [
    "def has_ddr_probably(row):\n",
    "    return num_ddr(row, allowed=[\"probably damaging\"]) >= 1"
   ]
  },
  {
   "cell_type": "code",
   "execution_count": 20,
   "metadata": {
    "collapsed": true
   },
   "outputs": [],
   "source": [
    "def has_ddr_possibly(row):\n",
    "    return num_ddr(row, allowed=[\"possibly damaging\", \"probably damaging\"]) >= 1"
   ]
  },
  {
   "cell_type": "code",
   "execution_count": 21,
   "metadata": {
    "collapsed": false
   },
   "outputs": [],
   "source": [
    "from utils.paper import *"
   ]
  },
  {
   "cell_type": "code",
   "execution_count": 22,
   "metadata": {
    "collapsed": false,
    "scrolled": true
   },
   "outputs": [
    {
     "name": "stdout",
     "output_type": "stream",
     "text": [
      "Mann-Whitney test: U=79.5, p-value=0.595648427729 (two-sided)\n",
      "{{{num_ddr_probably_plot}}}\n",
      "{{{num_ddr_probably_benefit:0.00 (range 0.00-1.00)}}}\n",
      "{{{num_ddr_probably_no_benefit:0.00 (range 0.00-3.00)}}}\n",
      "{{{num_ddr_probably_mw:n=25, Mann-Whitney p=0.60}}}\n"
     ]
    },
    {
     "data": {
      "image/png": "[encoded data removed]",
      "text/plain": [
       "<matplotlib.figure.Figure at 0x7f8fc6d80a10>"
      ]
     },
     "metadata": {},
     "output_type": "display_data"
    }
   ],
   "source": [
    "mann_whitney_hyper_label_printer(cohort.plot_benefit(num_ddr_probably), \"num_ddr_probably\")"
   ]
  },
  {
   "cell_type": "code",
   "execution_count": 23,
   "metadata": {
    "collapsed": false
   },
   "outputs": [
    {
     "name": "stdout",
     "output_type": "stream",
     "text": [
      "has_ddr_probably  False  True \n",
      "Response                      \n",
      "DCB                   6      3\n",
      "No DCB               13      3\n",
      "Fisher's Exact Test: OR: 0.461538461538, p-value=0.630039525692 (two-sided)\n",
      "{{{has_ddr_probably_fishers:n=25, Fisher's Exact p=0.63}}}\n"
     ]
    },
    {
     "data": {
      "image/png": "[encoded data removed]",
      "text/plain": [
       "<matplotlib.figure.Figure at 0x7f8fc471fe90>"
      ]
     },
     "metadata": {},
     "output_type": "display_data"
    }
   ],
   "source": [
    "hyper_label_printer(fishers_exact_formatter, \"has_ddr_probably_fishers\", results=cohort.plot_benefit(has_ddr_probably))"
   ]
  },
  {
   "cell_type": "code",
   "execution_count": 24,
   "metadata": {
    "collapsed": false
   },
   "outputs": [
    {
     "name": "stdout",
     "output_type": "stream",
     "text": [
      "Mann-Whitney test: U=92.0, p-value=0.196086956526 (two-sided)\n",
      "{{{num_ddr_possibly_plot}}}\n",
      "{{{num_ddr_possibly_benefit:1.00 (range 0.00-2.00)}}}\n",
      "{{{num_ddr_possibly_no_benefit:0.00 (range 0.00-3.00)}}}\n",
      "{{{num_ddr_possibly_mw:n=25, Mann-Whitney p=0.20}}}\n"
     ]
    },
    {
     "data": {
      "image/png": "[encoded data removed]",
      "text/plain": [
       "<matplotlib.figure.Figure at 0x7f8fc4715590>"
      ]
     },
     "metadata": {},
     "output_type": "display_data"
    }
   ],
   "source": [
    "mann_whitney_hyper_label_printer(cohort.plot_benefit({\"# Possible Damaging DDR Mutations\": num_ddr_possibly}), \"num_ddr_possibly\")"
   ]
  },
  {
   "cell_type": "code",
   "execution_count": 25,
   "metadata": {
    "collapsed": false
   },
   "outputs": [
    {
     "name": "stdout",
     "output_type": "stream",
     "text": [
      "With Damaging DDR Mutations  False  True \n",
      "Response                                 \n",
      "DCB                              4      5\n",
      "No DCB                          12      4\n",
      "Fisher's Exact Test: OR: 0.266666666667, p-value=0.199755258875 (two-sided)\n",
      "{{{has_ddr_possibly_fishers:n=25, Fisher's Exact p=0.20}}}\n"
     ]
    },
    {
     "data": {
      "image/png": "[encoded data removed]",
      "text/plain": [
       "<matplotlib.figure.Figure at 0x7f8fc6ab0c10>"
      ]
     },
     "metadata": {},
     "output_type": "display_data"
    }
   ],
   "source": [
    "hyper_label_printer(fishers_exact_formatter, \"has_ddr_possibly_fishers\", results=cohort.plot_benefit({\"With Damaging DDR Mutations\": has_ddr_possibly}))"
   ]
  },
  {
   "cell_type": "code",
   "execution_count": 26,
   "metadata": {
    "collapsed": true
   },
   "outputs": [],
   "source": [
    "from cohorts.functions import missense_snv_count"
   ]
  },
  {
   "cell_type": "code",
   "execution_count": 27,
   "metadata": {
    "collapsed": true
   },
   "outputs": [],
   "source": [
    "def missense_ddr_snv_count(row, cohort, filter_fn=None, normalized_per_mb=None, **kwargs):\n",
    "    from cohorts.variant_filters import no_filter\n",
    "    from cohorts.utils import first_not_none_param\n",
    "    filter_fn = first_not_none_param([filter_fn, cohort.filter_fn], no_filter)\n",
    "    normalized_per_mb = first_not_none_param([normalized_per_mb, cohort.normalized_per_mb], False)\n",
    "    \n",
    "    patient_id = row[\"patient_id\"]\n",
    "    def ddr_filter_fn(filterable_effect):\n",
    "        if filter_fn is not None:\n",
    "            return (filter_fn(filterable_effect) and \n",
    "                    filterable_effect.effect.gene in ddr_genes)\n",
    "        return filterable_effect.effect.gene.id in impact_gene_ids\n",
    "    return missense_snv_count(row, cohort, filter_fn=ddr_filter_fn)"
   ]
  },
  {
   "cell_type": "code",
   "execution_count": 28,
   "metadata": {
    "collapsed": false
   },
   "outputs": [
    {
     "name": "stdout",
     "output_type": "stream",
     "text": [
      "inner join with ensembl_coverage: 25 to 25 rows\n",
      "Mann-Whitney test: U=97.0, p-value=0.160848837562 (two-sided)\n"
     ]
    },
    {
     "data": {
      "text/plain": [
       "MannWhitneyResults(U=97.0, p_value=0.160848837562, sided_str='two-sided')"
      ]
     },
     "execution_count": 28,
     "metadata": {},
     "output_type": "execute_result"
    },
    {
     "data": {
      "image/png": "[encoded data removed]",
      "text/plain": [
       "<matplotlib.figure.Figure at 0x7f8fc3c13c90>"
      ]
     },
     "metadata": {},
     "output_type": "display_data"
    }
   ],
   "source": [
    "cohort.plot_benefit(missense_ddr_snv_count)"
   ]
  },
  {
   "cell_type": "code",
   "execution_count": 29,
   "metadata": {
    "collapsed": false
   },
   "outputs": [
    {
     "name": "stdout",
     "output_type": "stream",
     "text": [
      "Mann-Whitney test: U=101.0, p-value=0.215999754743 (two-sided)\n"
     ]
    },
    {
     "data": {
      "text/plain": [
       "MannWhitneyResults(U=101.0, p_value=0.215999754743, sided_str='two-sided')"
      ]
     },
     "execution_count": 29,
     "metadata": {},
     "output_type": "execute_result"
    },
    {
     "data": {
      "image/png": "[encoded data removed]",
      "text/plain": [
       "<matplotlib.figure.Figure at 0x7f8fc4373ed0>"
      ]
     },
     "metadata": {},
     "output_type": "display_data"
    }
   ],
   "source": [
    "cohort.plot_benefit_os(on=missense_ddr_snv_count)"
   ]
  },
  {
   "cell_type": "code",
   "execution_count": 30,
   "metadata": {
    "collapsed": true
   },
   "outputs": [],
   "source": [
    "df_clinical = cohort.as_dataframe()"
   ]
  },
  {
   "cell_type": "code",
   "execution_count": 31,
   "metadata": {
    "collapsed": false
   },
   "outputs": [],
   "source": [
    "df_ddr_annotations.merge(df_clinical, on=\"patient_id\").to_csv(\"ddr_polyphen.csv\", encoding='utf-8')"
   ]
  },
  {
   "cell_type": "code",
   "execution_count": null,
   "metadata": {
    "collapsed": true
   },
   "outputs": [],
   "source": []
  }
 ],
 "metadata": {
  "kernelspec": {
   "display_name": "Python 2",
   "language": "python",
   "name": "python2"
  },
  "language_info": {
   "codemirror_mode": {
    "name": "ipython",
    "version": 2
   },
   "file_extension": ".py",
   "mimetype": "text/x-python",
   "name": "python",
   "nbconvert_exporter": "python",
   "pygments_lexer": "ipython2",
   "version": "2.7.11"
  }
 },
 "nbformat": 4,
 "nbformat_minor": 0
}

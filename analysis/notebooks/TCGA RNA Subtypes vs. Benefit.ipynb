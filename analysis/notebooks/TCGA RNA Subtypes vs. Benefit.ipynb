{
 "cells": [
  {
   "cell_type": "markdown",
   "metadata": {},
   "source": [
    "Rosenberg Lancet:\n",
    "> Response to atezolizumab occurred in all TCGA subtypes but was significantly higher in the luminal cluster II subtype than in other subtypes, which showed an objective response rate of 34% (p=0·0017, figure 3G), compared with 10% for subtype I, 16% for subtype III, and 20% for subtype IV.\n",
    "\n",
    "Luminal := clusters 1, 2\n",
    "\n",
    "Basal := clusters 3,4"
   ]
  },
  {
   "cell_type": "code",
   "execution_count": 1,
   "metadata": {
    "collapsed": false
   },
   "outputs": [],
   "source": [
    "%load_ext autoreload\n",
    "%autoreload 2\n",
    "\n",
    "import sys \n",
    "from os import getcwd, path\n",
    "sys.path.append(path.dirname(getcwd()))\n",
    "import matplotlib.pyplot as plt\n",
    "import seaborn as sb\n",
    "import numpy as np\n",
    "import pandas as pd\n",
    "from cohorts.functions import *\n",
    "%matplotlib inline"
   ]
  },
  {
   "cell_type": "code",
   "execution_count": 2,
   "metadata": {
    "collapsed": true
   },
   "outputs": [],
   "source": [
    "from utils import data"
   ]
  },
  {
   "cell_type": "code",
   "execution_count": 3,
   "metadata": {
    "collapsed": true
   },
   "outputs": [],
   "source": [
    "from cohorts.plot import mann_whitney_plot\n",
    "from cohorts.plot import fishers_exact_plot"
   ]
  },
  {
   "cell_type": "code",
   "execution_count": 4,
   "metadata": {
    "collapsed": true
   },
   "outputs": [],
   "source": [
    "from utils.paper import *"
   ]
  },
  {
   "cell_type": "code",
   "execution_count": 5,
   "metadata": {
    "collapsed": false
   },
   "outputs": [
    {
     "name": "stdout",
     "output_type": "stream",
     "text": [
      "inner join with genentech_tcga_subtypes: 25 to 20 rows\n",
      "inner join with genentech_tcga_subtypes: 25 to 20 rows\n",
      "{'dataframe_hash': -7937148208254620035,\n",
      " 'provenance_file_summary': {u'cohorts': u'0.4.0+3.gda968fb',\n",
      "                             u'isovar': u'0.0.6',\n",
      "                             u'mhctools': u'0.3.0',\n",
      "                             u'numpy': u'1.11.1',\n",
      "                             u'pandas': u'0.18.1',\n",
      "                             u'pyensembl': u'1.0.3',\n",
      "                             u'scipy': u'0.18.1',\n",
      "                             u'topiary': u'0.1.0',\n",
      "                             u'varcode': u'0.5.10'}}\n",
      "inner join with genentech_tcga_subtypes: 25 to 20 rows\n"
     ]
    }
   ],
   "source": [
    "cohort = data.init_cohort(join_with=[\"genentech_tcga_subtypes\"])\n",
    "df = cohort.as_dataframe()"
   ]
  },
  {
   "cell_type": "markdown",
   "metadata": {},
   "source": [
    "# Benefit vs. Luminal or Basal Subtype"
   ]
  },
  {
   "cell_type": "code",
   "execution_count": 6,
   "metadata": {
    "collapsed": false
   },
   "outputs": [
    {
     "name": "stdout",
     "output_type": "stream",
     "text": [
      "inner join with genentech_tcga_subtypes: 25 to 20 rows\n",
      "basal     False  True \n",
      "Response              \n",
      "DCB           4      4\n",
      "No DCB        5      7\n",
      "Fisher's Exact Test: OR: 1.4, p-value=1.0 (two-sided)\n",
      "{{{basal_plot}}}\n",
      "{{{basal_benefit:50%}}}\n",
      "{{{basal_no_benefit:58%}}}\n",
      "{{{basal_fishers:n=20, Fisher's Exact p=1.00}}}\n"
     ]
    },
    {
     "data": {
      "image/png": "[encoded data removed]",
      "text/plain": [
       "<matplotlib.figure.Figure at 0x7f8718948e90>"
      ]
     },
     "metadata": {},
     "output_type": "display_data"
    }
   ],
   "source": [
    "fishers_exact_hyper_label_printer(cohort.plot_benefit(on = \"basal\"), label=\"basal\")"
   ]
  },
  {
   "cell_type": "code",
   "execution_count": 7,
   "metadata": {
    "collapsed": true
   },
   "outputs": [],
   "source": [
    "def basal(row, cohort):\n",
    "    return row[\"basal\"]"
   ]
  },
  {
   "cell_type": "code",
   "execution_count": 8,
   "metadata": {
    "collapsed": false,
    "scrolled": true
   },
   "outputs": [
    {
     "name": "stdout",
     "output_type": "stream",
     "text": [
      "inner join with genentech_tcga_subtypes: 25 to 20 rows\n",
      "# no condition 9\n",
      "# with condition 11\n"
     ]
    },
    {
     "name": "stdout",
     "output_type": "stream",
     "text": [
      "inner join with genentech_tcga_subtypes: 25 to 20 rows\n",
      "# no condition 9\n",
      "# with condition 11\n"
     ]
    },
    {
     "data": {
      "text/plain": [
       "<lifelines.StatisticalResult: \n",
       "Results\n",
       "   df: 1\n",
       "   alpha: 0.95\n",
       "   t 0: -1\n",
       "   test: logrank\n",
       "   null distribution: chi squared\n",
       "\n",
       "   __ p-value ___|__ test statistic __|____ test result ____|__ is significant __\n",
       "         0.20435 |              1.611 |  Cannot Reject Null |       False       \n",
       ">"
      ]
     },
     "execution_count": 8,
     "metadata": {},
     "output_type": "execute_result"
    },
    {
     "data": {
      "image/png": "[encoded data removed]",
      "text/plain": [
       "<matplotlib.figure.Figure at 0x7f8716387c50>"
      ]
     },
     "metadata": {},
     "output_type": "display_data"
    },
    {
     "data": {
      "image/png": "[encoded data removed]",
      "text/plain": [
       "<matplotlib.figure.Figure at 0x7f871897be10>"
      ]
     },
     "metadata": {},
     "output_type": "display_data"
    }
   ],
   "source": [
    "cohort.plot_survival(on=\"basal\", how=\"os\")\n",
    "cohort.plot_survival(on=\"basal\", how=\"pfs\")"
   ]
  },
  {
   "cell_type": "markdown",
   "metadata": {},
   "source": [
    "# Benefit vs. Four TCGA Subtypes"
   ]
  },
  {
   "cell_type": "code",
   "execution_count": 9,
   "metadata": {
    "collapsed": true
   },
   "outputs": [],
   "source": [
    "import matplotlib.colors as colors\n"
   ]
  },
  {
   "cell_type": "code",
   "execution_count": 10,
   "metadata": {
    "collapsed": true
   },
   "outputs": [],
   "source": [
    "import readline\n",
    "import rpy2.robjects as robjects\n",
    "from rpy2.robjects import FloatVector\n",
    "from rpy2.robjects.packages import importr\n",
    "\n",
    "stats = importr('stats')\n",
    "r = robjects.r"
   ]
  },
  {
   "cell_type": "code",
   "execution_count": 11,
   "metadata": {
    "collapsed": false
   },
   "outputs": [
    {
     "name": "stderr",
     "output_type": "stream",
     "text": [
      "/home/tavi/miniconda2/lib/python2.7/site-packages/ipykernel/__main__.py:2: SettingWithCopyWarning: \n",
      "A value is trying to be set on a copy of a slice from a DataFrame.\n",
      "Try using .loc[row_indexer,col_indexer] = value instead\n",
      "\n",
      "See the caveats in the documentation: http://pandas.pydata.org/pandas-docs/stable/indexing.html#indexing-view-versus-copy\n",
      "  from ipykernel import kernelapp as app\n"
     ]
    }
   ],
   "source": [
    "sdf = df[[\"TCGA Subtype\", \"is_benefit\"]]\n",
    "sdf[\"num\"] = pd.Series(np.ones(len(sdf)))\n",
    "pvt = pd.pivot_table(data = sdf, \n",
    "               index = \"TCGA Subtype\",\n",
    "               columns = \"is_benefit\",\n",
    "               values = \"num\", aggfunc = np.sum, fill_value=0).reset_index(level=0)\n",
    "\n",
    "pvt.columns = [\"TCGA Subtype\", \"F\", \"T\"]"
   ]
  },
  {
   "cell_type": "code",
   "execution_count": 12,
   "metadata": {
    "collapsed": false
   },
   "outputs": [],
   "source": [
    "contingency_table = pd.crosstab(df[\"TCGA Subtype\"], df[\"is_benefit\"])"
   ]
  },
  {
   "cell_type": "code",
   "execution_count": 13,
   "metadata": {
    "collapsed": false
   },
   "outputs": [],
   "source": [
    "adf = pd.DataFrame(pvt.values, columns=[\"TCGA Subtype\", \"no benefit\", \"benefit\"])\n",
    "adf[\"Total Patients\"] = adf[\"benefit\"] + adf[\"no benefit\"]\n",
    "adf[\"Percent Benefit\"] = adf[\"benefit\"] / adf[\"Total Patients\"]\n",
    "\n",
    "adf[\"% \" + cohort.benefit_plot_name] = adf[\"Percent Benefit\"].apply(lambda x: \"%2.f\" % (100*x))"
   ]
  },
  {
   "cell_type": "code",
   "execution_count": 14,
   "metadata": {
    "collapsed": false
   },
   "outputs": [
    {
     "data": {
      "text/html": [
       "<div>\n",
       "<table border=\"1\" class=\"dataframe\">\n",
       "  <thead>\n",
       "    <tr style=\"text-align: right;\">\n",
       "      <th></th>\n",
       "      <th>TCGA Subtype</th>\n",
       "      <th>no benefit</th>\n",
       "      <th>benefit</th>\n",
       "      <th>Total Patients</th>\n",
       "      <th>Percent Benefit</th>\n",
       "      <th>% DCB</th>\n",
       "    </tr>\n",
       "  </thead>\n",
       "  <tbody>\n",
       "    <tr>\n",
       "      <th>0</th>\n",
       "      <td>I</td>\n",
       "      <td>2</td>\n",
       "      <td>2</td>\n",
       "      <td>4</td>\n",
       "      <td>0.5</td>\n",
       "      <td>50</td>\n",
       "    </tr>\n",
       "    <tr>\n",
       "      <th>1</th>\n",
       "      <td>II</td>\n",
       "      <td>3</td>\n",
       "      <td>2</td>\n",
       "      <td>5</td>\n",
       "      <td>0.4</td>\n",
       "      <td>40</td>\n",
       "    </tr>\n",
       "    <tr>\n",
       "      <th>2</th>\n",
       "      <td>III</td>\n",
       "      <td>4</td>\n",
       "      <td>0</td>\n",
       "      <td>4</td>\n",
       "      <td>0</td>\n",
       "      <td>0</td>\n",
       "    </tr>\n",
       "    <tr>\n",
       "      <th>3</th>\n",
       "      <td>IV</td>\n",
       "      <td>3</td>\n",
       "      <td>4</td>\n",
       "      <td>7</td>\n",
       "      <td>0.571429</td>\n",
       "      <td>57</td>\n",
       "    </tr>\n",
       "  </tbody>\n",
       "</table>\n",
       "</div>"
      ],
      "text/plain": [
       "  TCGA Subtype no benefit benefit Total Patients Percent Benefit % DCB\n",
       "0            I          2       2              4             0.5    50\n",
       "1           II          3       2              5             0.4    40\n",
       "2          III          4       0              4               0     0\n",
       "3           IV          3       4              7        0.571429    57"
      ]
     },
     "execution_count": 14,
     "metadata": {},
     "output_type": "execute_result"
    }
   ],
   "source": [
    "adf"
   ]
  },
  {
   "cell_type": "code",
   "execution_count": 15,
   "metadata": {
    "collapsed": false
   },
   "outputs": [
    {
     "name": "stdout",
     "output_type": "stream",
     "text": [
      "WARNING: change these if cohorts.styling is changed\n"
     ]
    }
   ],
   "source": [
    "print \"WARNING: change these if cohorts.styling is changed\"\n",
    "blue = colors.hex2color(\"#5a86ad\")\n",
    "red = colors.hex2color(\"#bb3f3f\")"
   ]
  },
  {
   "cell_type": "code",
   "execution_count": 16,
   "metadata": {
    "collapsed": false
   },
   "outputs": [
    {
     "name": "stdout",
     "output_type": "stream",
     "text": [
      "{{{subtype_patients}}}\n"
     ]
    },
    {
     "data": {
      "image/png": "[encoded data removed]",
      "text/plain": [
       "<matplotlib.figure.Figure at 0x7f8713cfb1d0>"
      ]
     },
     "metadata": {},
     "output_type": "display_data"
    }
   ],
   "source": [
    "f, ax = plt.subplots()\n",
    "\n",
    "#sb.set_color_codes(\"pastel\")\n",
    "sb.barplot(y = \"Total Patients\", x = \"TCGA Subtype\", data = adf, label = \"No \" + cohort.benefit_plot_name, color = red)\n",
    "\n",
    "#sb.set_color_codes(\"muted\")\n",
    "sb.barplot(y = \"benefit\", x = \"TCGA Subtype\", data = adf, label = cohort.benefit_plot_name, color = blue)\n",
    "          #palette = mcp)\n",
    "\n",
    "ax.legend(ncol=1, loc=\"upper left\")\n",
    "ax.set(ylabel=\"Patient Count\")\n",
    "ax.set(ylim=[0,8])\n",
    "\n",
    "percents = adf[\"% \" + cohort.benefit_plot_name].values\n",
    "\n",
    "for (p, percent) in zip(ax.patches[:4], percents):\n",
    "    height = p.get_height()\n",
    "    ax.text(p.get_x(), height+.2, \"  \" + percent + \"%\")\n",
    "\n",
    "hyper_figure_label_printer(\"subtype_patients\")"
   ]
  },
  {
   "cell_type": "code",
   "execution_count": 17,
   "metadata": {
    "collapsed": false
   },
   "outputs": [
    {
     "name": "stdout",
     "output_type": "stream",
     "text": [
      "('data.name', array(['structure(c(2L, 3L, 4L, 3L, 2L, 2L, 0L, 4L), .Dim = c(4L, 2L))'], dtype=object))\n",
      "('alternative', array(['two.sided'], dtype=object))\n",
      "('method', array([\"Fisher's Exact Test for Count Data\"], dtype=object))\n",
      "('p.value', [0.3631817099309312])\n"
     ]
    },
    {
     "name": "stderr",
     "output_type": "stream",
     "text": [
      "/home/tavi/miniconda2/lib/python2.7/site-packages/ipykernel/__main__.py:10: FutureWarning: The pandas.rpy module is deprecated and will be removed in a future version. We refer to external packages like rpy2. \n",
      "See here for a guide on how to port your code to rpy2: http://pandas.pydata.org/pandas-docs/stable/r_interface.html\n"
     ]
    }
   ],
   "source": [
    "a = list(contingency_table.values[:,0])\n",
    "b = list(contingency_table.values[:,1])\n",
    "\n",
    "v = a + b\n",
    "\n",
    "m = r.matrix(robjects.IntVector(v), ncol = 2)\n",
    "\n",
    "result = stats.fisher_test(m)\n",
    "\n",
    "import pandas.rpy.common as com\n",
    "pyresultdict = com.convert_robj(result)\n",
    "\n",
    "for k, v in  pyresultdict.items():\n",
    "    print(k, v)"
   ]
  },
  {
   "cell_type": "code",
   "execution_count": 18,
   "metadata": {
    "collapsed": true
   },
   "outputs": [],
   "source": [
    "from cohorts.rounding import float_str"
   ]
  },
  {
   "cell_type": "code",
   "execution_count": 19,
   "metadata": {
    "collapsed": true
   },
   "outputs": [],
   "source": [
    "n = len(sdf)"
   ]
  },
  {
   "cell_type": "code",
   "execution_count": 20,
   "metadata": {
    "collapsed": false
   },
   "outputs": [
    {
     "name": "stdout",
     "output_type": "stream",
     "text": [
      "{{{four_clusters_fisher:n=20, Fisher's Exact p=0.36}}}\n"
     ]
    }
   ],
   "source": [
    "clusters_fisher_pvalue = pyresultdict[\"p.value\"][0]\n",
    "\n",
    "str_pvalue = float_str(clusters_fisher_pvalue)\n",
    "\n",
    "text = \"four_clusters_fisher:n=%d, Fisher's Exact p=%s\" % (n, str_pvalue)\n",
    "\n",
    "print \"{{{%s}}}\" % text"
   ]
  }
 ],
 "metadata": {
  "kernelspec": {
   "display_name": "Python 2",
   "language": "python",
   "name": "python2"
  },
  "language_info": {
   "codemirror_mode": {
    "name": "ipython",
    "version": 2
   },
   "file_extension": ".py",
   "mimetype": "text/x-python",
   "name": "python",
   "nbconvert_exporter": "python",
   "pygments_lexer": "ipython2",
   "version": "2.7.11"
  }
 },
 "nbformat": 4,
 "nbformat_minor": 0
}

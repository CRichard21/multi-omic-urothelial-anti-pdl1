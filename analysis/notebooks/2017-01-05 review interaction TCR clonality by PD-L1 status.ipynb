{
 "cells": [
  {
   "cell_type": "code",
   "execution_count": 19,
   "metadata": {
    "ExecuteTime": {
     "end_time": "2016-08-17T07:58:06.468311",
     "start_time": "2016-08-17T07:58:04.883583"
    },
    "autoscroll": "json-false",
    "collapsed": false,
    "ein.tags": [
     "worksheet-0"
    ]
   },
   "outputs": [
    {
     "name": "stdout",
     "output_type": "stream",
     "text": [
      "The autoreload extension is already loaded. To reload it, use:\n",
      "  %reload_ext autoreload\n"
     ]
    }
   ],
   "source": [
    "%load_ext autoreload\n",
    "%autoreload 2\n",
    "\n",
    "import sys \n",
    "from os import getcwd, path\n",
    "sys.path.append(path.dirname(getcwd()))\n",
    "import matplotlib.pyplot as plt\n",
    "import seaborn as sb\n",
    "import numpy as np\n",
    "import pandas as pd\n",
    "import pprint\n",
    "from cohorts.functions import missense_snv_count\n",
    "import lifelines as ll\n",
    "import patsy\n",
    "import functools\n",
    "import survivalstan\n",
    "from stancache import stancache, config\n",
    "import os\n",
    "from cohorts.utils import strip_column_names\n",
    "%matplotlib inline"
   ]
  },
  {
   "cell_type": "code",
   "execution_count": 2,
   "metadata": {
    "collapsed": false
   },
   "outputs": [
    {
     "name": "stderr",
     "output_type": "stream",
     "text": [
      "INFO:root:Setting CACHE_DIR = /mnt/checkpoint-trials/bladder/stancache\n"
     ]
    }
   ],
   "source": [
    "sample_file_dir = '/mnt/checkpoint-trials/bladder/stan_sample_files'\n",
    "config.set_value(CACHE_DIR='/mnt/checkpoint-trials/bladder/stancache')"
   ]
  },
  {
   "cell_type": "code",
   "execution_count": 3,
   "metadata": {
    "collapsed": true
   },
   "outputs": [],
   "source": [
    "## set seeds for stan & rngs, to aid in reproducibility\n",
    "## (note: only reproducible within a machine, not across machines)\n",
    "\n",
    "seed = 91038753\n",
    "import random\n",
    "random.seed(seed)"
   ]
  },
  {
   "cell_type": "code",
   "execution_count": 4,
   "metadata": {
    "ExecuteTime": {
     "end_time": "2016-08-17T07:58:06.519332",
     "start_time": "2016-08-17T07:58:06.499244"
    },
    "autoscroll": "json-false",
    "collapsed": false,
    "ein.tags": [
     "worksheet-0"
    ]
   },
   "outputs": [],
   "source": [
    "from utils import data\n",
    "from utils import paper\n",
    "from utils.extra_functions import *\n"
   ]
  },
  {
   "cell_type": "markdown",
   "metadata": {},
   "source": [
    "# prep data "
   ]
  },
  {
   "cell_type": "markdown",
   "metadata": {},
   "source": [
    "## load data"
   ]
  },
  {
   "cell_type": "code",
   "execution_count": 5,
   "metadata": {
    "ExecuteTime": {
     "end_time": "2016-08-17T07:58:11.840853",
     "start_time": "2016-08-17T07:58:06.520959"
    },
    "collapsed": false
   },
   "outputs": [
    {
     "name": "stdout",
     "output_type": "stream",
     "text": [
      "inner join with ensembl_coverage: 25 to 25 rows\n",
      "inner join with tcr_peripheral_a: 25 to 25 rows\n",
      "inner join with ensembl_coverage: 25 to 25 rows\n",
      "inner join with tcr_peripheral_a: 25 to 25 rows\n",
      "{'dataframe_hash': -7522244498661454348,\n",
      " 'provenance_file_summary': {u'cohorts': u'0.4.2',\n",
      "                             u'isovar': u'0.0.6',\n",
      "                             u'mhctools': u'0.3.1',\n",
      "                             u'numpy': u'1.11.2',\n",
      "                             u'pandas': u'0.19.2',\n",
      "                             u'pyensembl': u'1.0.3',\n",
      "                             u'scipy': u'0.18.1',\n",
      "                             u'topiary': u'0.1.0',\n",
      "                             u'varcode': u'0.5.11'}}\n"
     ]
    }
   ],
   "source": [
    "cohort = data.init_cohort(join_with=[\"ensembl_coverage\",\"tcr_peripheral_a\"])"
   ]
  },
  {
   "cell_type": "code",
   "execution_count": 6,
   "metadata": {
    "ExecuteTime": {
     "end_time": "2016-08-17T07:59:21.487992",
     "start_time": "2016-08-17T07:58:11.931783"
    },
    "collapsed": false
   },
   "outputs": [
    {
     "name": "stdout",
     "output_type": "stream",
     "text": [
      "inner join with ensembl_coverage: 25 to 25 rows\n",
      "inner join with tcr_peripheral_a: 25 to 25 rows\n"
     ]
    },
    {
     "name": "stderr",
     "output_type": "stream",
     "text": [
      "INFO:pyensembl.sequence_data:Loaded sequence dictionary from /home/jacquelineburos/.cache/pyensembl/GRCh37/ensembl75/Homo_sapiens.GRCh37.75.pep.all.fa.gz.pickle\n"
     ]
    },
    {
     "name": "stdout",
     "output_type": "stream",
     "text": [
      "inner join with ensembl_coverage: 25 to 25 rows\n"
     ]
    }
   ],
   "source": [
    "def tcell_fraction(row):\n",
    "    return row[\"T-cell fraction\"]\n",
    "\n",
    "def peripheral_clonality_a(row):\n",
    "    return row['Clonality']\n",
    "\n",
    "cols, d = cohort.as_dataframe([missense_snv_count,\n",
    "                               peripheral_clonality_a,\n",
    "                               tcell_fraction,\n",
    "                               ],\n",
    "                              rename_cols=True,\n",
    "                              return_cols=True)"
   ]
  },
  {
   "cell_type": "code",
   "execution_count": 7,
   "metadata": {
    "ExecuteTime": {
     "end_time": "2016-08-17T07:59:21.537104",
     "start_time": "2016-08-17T07:59:21.513702"
    },
    "collapsed": false
   },
   "outputs": [
    {
     "data": {
      "text/plain": [
       "['missense_snv_count', 'peripheral_clonality_a', 'tcell_fraction']"
      ]
     },
     "execution_count": 7,
     "metadata": {},
     "output_type": "execute_result"
    }
   ],
   "source": [
    "cols"
   ]
  },
  {
   "cell_type": "code",
   "execution_count": 8,
   "metadata": {
    "collapsed": false
   },
   "outputs": [
    {
     "name": "stdout",
     "output_type": "stream",
     "text": [
      "DCB\n"
     ]
    }
   ],
   "source": [
    "# confirm benefit & benefit-os names\n",
    "print(cohort.benefit_plot_name)"
   ]
  },
  {
   "cell_type": "markdown",
   "metadata": {},
   "source": [
    "## construct/rescale variables"
   ]
  },
  {
   "cell_type": "code",
   "execution_count": 9,
   "metadata": {
    "ExecuteTime": {
     "end_time": "2016-08-17T07:59:22.132709",
     "start_time": "2016-08-17T07:59:22.081884"
    },
    "collapsed": true
   },
   "outputs": [],
   "source": [
    "## create 'observed', log-transformed & centered versions of variables (not normalized by MB)\n",
    "for col in cols:\n",
    "    observed_col = 'observed_{}'.format(col)\n",
    "    log_col = 'log_{}'.format(col)\n",
    "    log_col_centered = 'log_{}_centered'.format(col)\n",
    "    log_col_rescaled = 'log_{}_rescaled'.format(col)\n",
    "    d[observed_col] = d[col]*d['mb']\n",
    "    d[log_col] = np.log1p(d[observed_col])\n",
    "    d[log_col_centered] = d[log_col] - np.mean(d[log_col])\n",
    "    d[log_col_rescaled] = d[log_col_centered]/np.std(d[log_col_centered])\n",
    "\n",
    "## save key vars in list for future use\n",
    "vars_centered = ['log_{}_centered'.format(col) for col in cols]\n",
    "vars_rescaled = ['log_{}_rescaled'.format(col) for col in cols]"
   ]
  },
  {
   "cell_type": "markdown",
   "metadata": {},
   "source": [
    "## center variables by mean within PD-L1 group"
   ]
  },
  {
   "cell_type": "code",
   "execution_count": 10,
   "metadata": {
    "ExecuteTime": {
     "end_time": "2016-08-17T07:59:22.220909",
     "start_time": "2016-08-17T07:59:22.199735"
    },
    "collapsed": false
   },
   "outputs": [],
   "source": [
    "## identify list of variables to center\n",
    "metrics = list(cols)\n"
   ]
  },
  {
   "cell_type": "code",
   "execution_count": 11,
   "metadata": {
    "collapsed": false
   },
   "outputs": [],
   "source": [
    "metrics2 = list(metrics)\n",
    "metrics2.extend(['pd_l1'])\n",
    "assert(not 'pd_l1' in metrics)\n",
    "log_metrics2 = ['log_{}'.format(var) for var in metrics2]\n",
    "metrics2.extend(log_metrics2)"
   ]
  },
  {
   "cell_type": "code",
   "execution_count": 12,
   "metadata": {
    "ExecuteTime": {
     "end_time": "2016-08-17T07:59:22.242582",
     "start_time": "2016-08-17T07:59:22.222780"
    },
    "collapsed": false
   },
   "outputs": [],
   "source": [
    "grp_metrics = [var for var in metrics2 if var in d.columns]"
   ]
  },
  {
   "cell_type": "code",
   "execution_count": 13,
   "metadata": {
    "ExecuteTime": {
     "end_time": "2016-08-17T07:59:22.275217",
     "start_time": "2016-08-17T07:59:22.244289"
    },
    "collapsed": false
   },
   "outputs": [],
   "source": [
    "# center variables by group\n",
    "bygrp = d.loc[:, grp_metrics]\n",
    "bygrp = bygrp.groupby('pd_l1').transform(lambda x: x - x.mean())\n",
    "bygrp['patient_id'] = d.patient_id"
   ]
  },
  {
   "cell_type": "code",
   "execution_count": 14,
   "metadata": {
    "ExecuteTime": {
     "end_time": "2016-08-17T07:59:22.301832",
     "start_time": "2016-08-17T07:59:22.276693"
    },
    "collapsed": true
   },
   "outputs": [],
   "source": [
    "# merge recentered variables back into original dataframe\n",
    "df = pd.merge(d, bygrp, on = 'patient_id', suffixes = ['', '_centered_by_pd_l1'])"
   ]
  },
  {
   "cell_type": "markdown",
   "metadata": {},
   "source": [
    "# prep survival data in long format"
   ]
  },
  {
   "cell_type": "code",
   "execution_count": 15,
   "metadata": {
    "ExecuteTime": {
     "end_time": "2016-08-17T07:59:22.420738",
     "start_time": "2016-08-17T07:59:22.356618"
    },
    "collapsed": false
   },
   "outputs": [],
   "source": [
    "## prep dflong_pfs which will be used for survival analysis using stan\n",
    "df_long_pfs = survivalstan.prep_data_long_surv(df = df,\n",
    "                                               event_col = 'is_progressed_or_deceased',\n",
    "                                               time_col = 'pfs')\n",
    "df_long_os = survivalstan.prep_data_long_surv(df = df,\n",
    "                                               event_col = 'is_deceased',\n",
    "                                               time_col = 'os')\n"
   ]
  },
  {
   "cell_type": "markdown",
   "metadata": {},
   "source": [
    "# multivariate analysis using varying-coef model"
   ]
  },
  {
   "cell_type": "code",
   "execution_count": 16,
   "metadata": {
    "ExecuteTime": {
     "end_time": "2016-08-17T08:27:09.524216",
     "start_time": "2016-08-17T08:27:09.501719"
    },
    "collapsed": false
   },
   "outputs": [
    {
     "name": "stdout",
     "output_type": "stream",
     "text": [
      "../utils/stan/pem_survival_model_randomwalk_alt.stan\n",
      "../utils/stan/pem_survival_model_varying_coefs2.stan\n",
      "../utils/stan/pem_survival_model_randomwalk_custom_coefs_missense_and_neoant_rates.stan\n",
      "../utils/stan/pem_survival_model_randomwalk_custom_coefs_expressed_missense_and_neoant_mutations.stan\n",
      "../utils/stan/logistic_model_by_group.stan\n",
      "../utils/stan/pem_survival_model_varying_coefs4.stan\n",
      "../utils/stan/pem_survival_model_randomwalk_bspline2.stan\n",
      "../utils/stan/pem_survival_model_randomwalk2.stan\n",
      "../utils/stan/pem_survival_model_randomwalk_tvc2.stan\n",
      "../utils/stan/pem_survival_model_randomwalk_bspline.stan\n",
      "../utils/stan/pem_survival_model_varying_coefs3.stan\n",
      "../utils/stan/pem_survival_model_randomwalk.stan\n",
      "../utils/stan/pem_survival_model_gamma.stan\n",
      "../utils/stan/pem_survival_model_randomwalk_bspline_est_xi.stan\n",
      "../utils/stan/pem_survival_model_unstructured_varcoef_hsprior.stan\n",
      "../utils/stan/pem_survival_model_unstructured_varcoef.stan\n",
      "../utils/stan/pem_survival_model_randomwalk_tvc.stan\n",
      "../utils/stan/logistic_model.stan\n",
      "../utils/stan/pem_survival_model_randomwalk_custom_coefs_rate_only.stan\n",
      "../utils/stan/pem_survival_model_randomwalk_bspline_est_xi2.stan\n"
     ]
    }
   ],
   "source": [
    "models = survivalstan.utils.read_files('../utils/stan')"
   ]
  },
  {
   "cell_type": "code",
   "execution_count": 17,
   "metadata": {
    "collapsed": true
   },
   "outputs": [],
   "source": [
    "survstan_pfs_varcoef = functools.partial(\n",
    "    survivalstan.fit_stan_survival_model,\n",
    "    df = df_long_pfs,\n",
    "    model_code = models['pem_survival_model_unstructured_varcoef.stan'],\n",
    "    timepoint_end_col = 'end_time',\n",
    "    event_col = 'end_failure',\n",
    "    sample_col = 'patient_id',\n",
    "    chains = 4,\n",
    "    iter = 10000,\n",
    "    FIT_FUN = stancache.cached_stan_fit,\n",
    "    grp_coef_type = 'vector-of-vectors',\n",
    "    seed = seed,\n",
    "    control=dict(adapt_delta=0.9)\n",
    "    )\n",
    "survstan_os_varcoef = functools.partial(\n",
    "    survivalstan.fit_stan_survival_model,\n",
    "    df = df_long_os,\n",
    "    model_code = models['pem_survival_model_unstructured_varcoef.stan'],\n",
    "    timepoint_end_col = 'end_time',\n",
    "    event_col = 'end_failure',\n",
    "    sample_col = 'patient_id',\n",
    "    chains = 4,\n",
    "    iter = 10000,\n",
    "    FIT_FUN = stancache.cached_stan_fit,\n",
    "    grp_coef_type = 'vector-of-vectors',\n",
    "    seed = seed,\n",
    "    control=dict(adapt_delta=0.9)\n",
    "    )\n"
   ]
  },
  {
   "cell_type": "markdown",
   "metadata": {},
   "source": [
    "## varying-coef model for peripheral TCR clonality at timepoint A by pd-l1"
   ]
  },
  {
   "cell_type": "code",
   "execution_count": 20,
   "metadata": {
    "collapsed": false
   },
   "outputs": [
    {
     "name": "stderr",
     "output_type": "stream",
     "text": [
      "INFO:stancache.stancache:Step 1: Get compiled model code, possibly from cache\n",
      "INFO:stancache.stancache:StanModel: cache_filename set to anon_model.cython_0_25_2.model_code_9571340839314917516.pystan_2_14_0_0.stanmodel.pkl\n",
      "INFO:stancache.stancache:StanModel: Loading result from cache\n",
      "INFO:stancache.stancache:Step 2: Get posterior draws from model, possibly from cache\n",
      "INFO:stancache.stancache:sampling: cache_filename set to anon_model.cython_0_25_2.model_code_9571340839314917516.pystan_2_14_0_0.stanfit.chains_4.control_81717217759.data_55819852896.iter_10000.sample_file_1080157740070054779.seed_91038753.pkl\n",
      "INFO:stancache.stancache:sampling: Starting execution\n",
      "INFO:stancache.stancache:sampling: Execution completed (0:03:48.462343 elapsed)\n",
      "INFO:stancache.stancache:sampling: Saving results to cache\n",
      "/home/jacquelineburos/miniconda3/envs/newbladder2/lib/python2.7/pickle.py:306: UserWarning: Pickling fit objects is an experimental feature!\n",
      "The relevant StanModel instance must be pickled along with this fit object.\n",
      "When unpickling the StanModel must be unpickled first.\n",
      "  rv = reduce(self.proto)\n",
      "/home/jacquelineburos/miniconda3/envs/newbladder2/lib/python2.7/site-packages/stanity/psis.py:228: FutureWarning: elementwise comparison failed; returning scalar instead, but in the future will perform elementwise comparison\n",
      "  elif sort == 'in-place':\n",
      "/home/jacquelineburos/miniconda3/envs/newbladder2/lib/python2.7/site-packages/stanity/psis.py:246: VisibleDeprecationWarning: using a non-integer number instead of an integer will result in an error in the future\n",
      "  bs /= 3 * x[sort[np.floor(n/4 + 0.5) - 1]]\n",
      "/home/jacquelineburos/miniconda3/envs/newbladder2/lib/python2.7/site-packages/stanity/psis.py:262: RuntimeWarning: overflow encountered in exp\n",
      "  np.exp(temp, out=temp)\n"
     ]
    }
   ],
   "source": [
    "tcrclonality_by_pdl1 = survstan_pfs_varcoef(formula = 'log_peripheral_clonality_a_centered_by_pd_l1', \n",
    "                                            group_col = 'pd_l1',\n",
    "                                            sample_file = os.path.join(sample_file_dir, 'tcr_clonality_X_pdl1'),\n",
    "                                            model_cohort = 'tcr_clonality_X_pd_l1'\n",
    "                                            )"
   ]
  },
  {
   "cell_type": "code",
   "execution_count": 21,
   "metadata": {
    "collapsed": false
   },
   "outputs": [
    {
     "name": "stdout",
     "output_type": "stream",
     "text": [
      "           mean   se_mean        sd      2.5%        50%      97.5%      Rhat\n",
      "lp__ -66.154676  1.086609  19.19334 -94.51629 -69.873692 -16.616185  1.024204\n"
     ]
    }
   ],
   "source": [
    "survivalstan.utils.print_stan_summary([tcrclonality_by_pdl1], pars='lp__')"
   ]
  },
  {
   "cell_type": "code",
   "execution_count": 22,
   "metadata": {
    "collapsed": false
   },
   "outputs": [
    {
     "data": {
      "image/png": "[encoded data removed]",
      "text/plain": [
       "<matplotlib.figure.Figure at 0x7fa7ca852450>"
      ]
     },
     "metadata": {},
     "output_type": "display_data"
    }
   ],
   "source": [
    "survivalstan.utils.plot_stan_summary([tcrclonality_by_pdl1], metric='Rhat')"
   ]
  },
  {
   "cell_type": "code",
   "execution_count": 23,
   "metadata": {
    "collapsed": false
   },
   "outputs": [
    {
     "name": "stdout",
     "output_type": "stream",
     "text": [
      "{{{tcrclonality_by_pdl1_pfs}}}\n"
     ]
    },
    {
     "data": {
      "image/png": "[encoded data removed]",
      "text/plain": [
       "<matplotlib.figure.Figure at 0x7fa7ca852510>"
      ]
     },
     "metadata": {},
     "output_type": "display_data"
    }
   ],
   "source": [
    "## capture current figure size\n",
    "paper.hyper_figure_label_printer('tcrclonality_by_pdl1_pfs')\n",
    "## make this plot much wider than usual\n",
    "current_fig_size = plt.rcParams[\"figure.figsize\"]\n",
    "new_fig_size = [current_fig_size[0]*2, current_fig_size[1]]\n",
    "plt.rcParams[\"figure.figsize\"] = new_fig_size\n",
    "## plot\n",
    "sb.boxplot(data=tcrclonality_by_pdl1['grp_coefs'], x='exp(beta)', y='group', fliersize=0, whis=[2.5, 97.5])\n",
    "_ = plt.xlim([0, 30])\n",
    "_ = plt.vlines(1, -10, 10, linestyles='--')\n",
    "#_ = plt.title('Hazard associated with log(Peripheral clonality at timepoint A) \\n by level of intratumoral PD-L1 expression')\n",
    "_ = plt.ylabel('')\n",
    "_ = plt.xlabel('HR for {}'.format(cohort.hazard_plot_name))\n",
    "## revert width to original size\n",
    "plt.rcParams[\"figure.figsize\"] = current_fig_size"
   ]
  },
  {
   "cell_type": "code",
   "execution_count": 24,
   "metadata": {
    "collapsed": false
   },
   "outputs": [
    {
     "name": "stdout",
     "output_type": "stream",
     "text": [
      "{{{tcrclonality_by_pdl1_pfs_split}}}\n"
     ]
    },
    {
     "data": {
      "text/plain": [
       "<matplotlib.text.Text at 0x7fa7c9182750>"
      ]
     },
     "execution_count": 24,
     "metadata": {},
     "output_type": "execute_result"
    },
    {
     "data": {
      "image/png": "[encoded data removed]",
      "text/plain": [
       "<matplotlib.figure.Figure at 0x7fa7c8ae8e10>"
      ]
     },
     "metadata": {},
     "output_type": "display_data"
    }
   ],
   "source": [
    "paper.hyper_figure_label_printer('tcrclonality_by_pdl1_pfs_split')\n",
    "## plot side-by-side zoomed & unzoomed plots\n",
    "f, (ax1, ax2) = plt.subplots(1, 2, sharey=True)\n",
    "sb.boxplot(data=tcrclonality_by_pdl1['grp_coefs'],\n",
    "           x='exp(beta)',\n",
    "           y='group',\n",
    "           fliersize=0,\n",
    "           whis=[2.5, 97.5], \n",
    "           ax=ax1,\n",
    "          )\n",
    "ax1.set_xlim([0, 5.])\n",
    "ax1.set_ylabel('')\n",
    "ax1.spines['right'].set_visible(False)\n",
    "ax2.spines['left'].set_visible(False)\n",
    "#ax1.set_yticklabels([0,1,2],['','',''])\n",
    "#ax1.vlines(1, -10, 10, linestyles='--')\n",
    "#ax1.set_yticks([0])\n",
    "#ax1.get_yaxis().set_visible(False)\n",
    "\n",
    "sb.boxplot(data=tcrclonality_by_pdl1['grp_coefs'],\n",
    "           x='exp(beta)',\n",
    "           y='group',\n",
    "           fliersize=0,\n",
    "           whis=[2.5, 97.5],\n",
    "           ax=ax2,\n",
    "          )\n",
    "ax2.set_xlim([5.5, 102])\n",
    "ax2.set_ylabel('')\n",
    "\n",
    "d = .015  # how big to make the diagonal lines in axes coordinates\n",
    "# arguments to pass plot, just so we don't keep repeating them\n",
    "kwargs = dict(transform=ax1.transAxes, color='k', clip_on=False)\n",
    "ax1.plot((1 - d, 1 + d), (-d, +d), **kwargs)  # bottom-right diagonal\n",
    "ax1.plot((1 - d, 1 + d), (1 - d, 1 + d), **kwargs)  # top-right diagonal\n",
    "\n",
    "kwargs.update(transform=ax2.transAxes)  # switch to the bottom axes\n",
    "ax2.plot((-d, +d), (1 - d, 1 + d), **kwargs)  # top-left diagonal\n",
    "ax2.plot((-d, +d), (-d, +d), **kwargs)  # bottom-left diagonal\n",
    "\n",
    "ax1.vlines(1, -10, 10, linestyles='--')\n",
    "ax1.set_xlabel('HR for\\n{}'.format(cohort.hazard_plot_name))\n",
    "ax2.set_xlabel('')\n",
    "## rotate labels on x axis\n",
    "#_ = plt.setp(ax1.get_xticklabels(), rotation='vertical')\n",
    "#_ = plt.setp(ax2.get_xticklabels(), rotation='vertical')"
   ]
  },
  {
   "cell_type": "code",
   "execution_count": 25,
   "metadata": {
    "collapsed": false
   },
   "outputs": [
    {
     "name": "stdout",
     "output_type": "stream",
     "text": [
      "{{{hr_clonality_pfs_among_IC0:n=4, HR=1.86, 95% CI (0.50, 4.99)}}}\n",
      "{{{hr_clonality_pfs_among_IC1:n=11, HR=0.69, 95% CI (0.15, 1.84)}}}\n",
      "{{{hr_clonality_pfs_among_IC2:n=10, HR=89.88, 95% CI (2.43, 506.94)}}}\n"
     ]
    }
   ],
   "source": [
    "## summarize results by IC group\n",
    "tcrclonality_by_pdl1['grp_coefs']['group_label'] = tcrclonality_by_pdl1['grp_coefs'].group.apply(\n",
    "    lambda x: 'hr_clonality_pfs_among_{}'.format(x)\n",
    ")\n",
    "for (name, ic_class), group in tcrclonality_by_pdl1['grp_coefs'].groupby(['group_label','group']):\n",
    "    group_n = len(df.loc[df.pd_l1==ic_class,'pd_l1'])\n",
    "    paper.hyper_label_printer(formatter=paper.hr_posterior_formatter,\n",
    "                              label=name, n=group_n,\n",
    "                              summary='mean',\n",
    "                              series=group['exp(beta)'])"
   ]
  },
  {
   "cell_type": "code",
   "execution_count": 26,
   "metadata": {
    "collapsed": false
   },
   "outputs": [
    {
     "name": "stdout",
     "output_type": "stream",
     "text": [
      "{{{hr_clonality_pfs_among_IC0_median:n=4, HR=1.55, 95% CI (0.50, 4.99)}}}\n",
      "{{{hr_clonality_pfs_among_IC1_median:n=11, HR=0.58, 95% CI (0.15, 1.84)}}}\n",
      "{{{hr_clonality_pfs_among_IC2_median:n=10, HR=23.41, 95% CI (2.43, 506.94)}}}\n"
     ]
    }
   ],
   "source": [
    "## confirm what HR would look like if summarized using the median\n",
    "tcrclonality_by_pdl1['grp_coefs']['group_label'] = tcrclonality_by_pdl1['grp_coefs'].group.apply(\n",
    "    lambda x: 'hr_clonality_pfs_among_{}_median'.format(x)\n",
    ")\n",
    "for (name, ic_class), group in tcrclonality_by_pdl1['grp_coefs'].groupby(['group_label','group']):\n",
    "    group_n = len(df.loc[df.pd_l1==ic_class,'pd_l1'])\n",
    "    paper.hyper_label_printer(formatter=paper.hr_posterior_formatter,\n",
    "                              label=name, n=group_n,\n",
    "                              summary='median',\n",
    "                              series=group['exp(beta)'])"
   ]
  },
  {
   "cell_type": "code",
   "execution_count": 27,
   "metadata": {
    "collapsed": false
   },
   "outputs": [
    {
     "name": "stdout",
     "output_type": "stream",
     "text": [
      "{{{hr_clonality_pfs_among_IC0_both:n=4, HR (mean)=1.86, HR (median)=1.55, 95% CI (0.50, 4.99)}}}\n",
      "{{{hr_clonality_pfs_among_IC1_both:n=11, HR (mean)=0.69, HR (median)=0.58, 95% CI (0.15, 1.84)}}}\n",
      "{{{hr_clonality_pfs_among_IC2_both:n=10, HR (mean)=89.88, HR (median)=23.41, 95% CI (2.43, 506.94)}}}\n"
     ]
    }
   ],
   "source": [
    "## summarize results by IC group\n",
    "tcrclonality_by_pdl1['grp_coefs']['group_label'] = tcrclonality_by_pdl1['grp_coefs'].group.apply(\n",
    "    lambda x: 'hr_clonality_pfs_among_{}_both'.format(x)\n",
    ")\n",
    "for (name, ic_class), group in tcrclonality_by_pdl1['grp_coefs'].groupby(['group_label','group']):\n",
    "    group_n = len(df.loc[df.pd_l1==ic_class,'pd_l1'])\n",
    "    paper.hyper_label_printer(formatter=paper.hr_posterior_formatter,\n",
    "                              label=name, n=group_n,\n",
    "                              summary=['mean','median'],\n",
    "                              series=group['exp(beta)'])"
   ]
  },
  {
   "cell_type": "code",
   "execution_count": 28,
   "metadata": {
    "collapsed": false
   },
   "outputs": [
    {
     "name": "stdout",
     "output_type": "stream",
     "text": [
      "{{{hr_clonality_pfs_among_IC0_both_with_p:n=4, HR (mean)=1.86, HR (median)=1.55, 95% CI (0.50, 4.99), p(HR>1)=0.21}}}\n",
      "{{{hr_clonality_pfs_among_IC1_both_with_p:n=11, HR (mean)=0.69, HR (median)=0.58, 95% CI (0.15, 1.84), p(HR<1)=0.19}}}\n",
      "{{{hr_clonality_pfs_among_IC2_both_with_p:n=10, HR (mean)=89.88, HR (median)=23.41, 95% CI (2.43, 506.94), p(HR>1)=0.0014}}}\n"
     ]
    }
   ],
   "source": [
    "## summarize results by IC group\n",
    "tcrclonality_by_pdl1['grp_coefs']['group_label'] = tcrclonality_by_pdl1['grp_coefs'].group.apply(\n",
    "    lambda x: 'hr_clonality_pfs_among_{}_both_with_p'.format(x)\n",
    ")\n",
    "for (name, ic_class), group in tcrclonality_by_pdl1['grp_coefs'].groupby(['group_label','group']):\n",
    "    group_n = len(df.loc[df.pd_l1==ic_class,'pd_l1'])\n",
    "    paper.hyper_label_printer(formatter=paper.hr_posterior_formatter,\n",
    "                              label=name, n=group_n,\n",
    "                              summary=['mean','median'],\n",
    "                              series=group['exp(beta)'],\n",
    "                              include_p=True, p_compare=1)"
   ]
  },
  {
   "cell_type": "code",
   "execution_count": 29,
   "metadata": {
    "collapsed": false
   },
   "outputs": [
    {
     "name": "stdout",
     "output_type": "stream",
     "text": [
      "{{{pval_clonality_pfs_interaction:0.018}}}\n"
     ]
    }
   ],
   "source": [
    "## bayesian p-value for interaction\n",
    "comparison3 = pd.pivot_table(tcrclonality_by_pdl1['grp_coefs'],\n",
    "                  index = ['iter', 'model_cohort', 'variable'],\n",
    "                  values = 'value', columns = 'group')\n",
    "print('{{{%s:%s}}}' % ('pval_clonality_pfs_interaction', paper.float_str(1-(comparison3.eval('IC0 < IC2').mean()))))"
   ]
  },
  {
   "cell_type": "code",
   "execution_count": 30,
   "metadata": {
    "collapsed": false
   },
   "outputs": [
    {
     "data": {
      "text/plain": [
       "<seaborn.axisgrid.FacetGrid at 0x7fa7c75697d0>"
      ]
     },
     "execution_count": 30,
     "metadata": {},
     "output_type": "execute_result"
    },
    {
     "data": {
      "image/png": "[encoded data removed]",
      "text/plain": [
       "<matplotlib.figure.Figure at 0x7fa7c9450a50>"
      ]
     },
     "metadata": {},
     "output_type": "display_data"
    }
   ],
   "source": [
    "# inspect raw data - are results reasonable?\n",
    "sb.lmplot(data = df, x = 'peripheral_clonality_a', y = 'benefit', col='pd_l1', logistic=True, fit_reg=False)"
   ]
  },
  {
   "cell_type": "code",
   "execution_count": 31,
   "metadata": {
    "collapsed": false
   },
   "outputs": [
    {
     "name": "stdout",
     "output_type": "stream",
     "text": [
      "{{{pval_clonality_pfs_interaction_ic2:0.0014}}}\n"
     ]
    }
   ],
   "source": [
    "coefdata = tcrclonality_by_pdl1['grp_coefs']\n",
    "pval = (1-np.mean(coefdata.loc[coefdata['group']=='IC2','value'] >= 0))\n",
    "print('{{{%s:%s}}}' % ('pval_clonality_pfs_interaction_ic2',\n",
    "                       paper.float_str(pval)))"
   ]
  },
  {
   "cell_type": "markdown",
   "metadata": {},
   "source": [
    "## try with horseshoe prior on beta coefs"
   ]
  },
  {
   "cell_type": "code",
   "execution_count": 32,
   "metadata": {
    "collapsed": false
   },
   "outputs": [
    {
     "name": "stdout",
     "output_type": "stream",
     "text": [
      "../utils/stan/pem_survival_model_randomwalk_alt.stan\n",
      "../utils/stan/pem_survival_model_varying_coefs2.stan\n",
      "../utils/stan/pem_survival_model_randomwalk_custom_coefs_missense_and_neoant_rates.stan\n",
      "../utils/stan/pem_survival_model_randomwalk_custom_coefs_expressed_missense_and_neoant_mutations.stan\n",
      "../utils/stan/logistic_model_by_group.stan\n",
      "../utils/stan/pem_survival_model_varying_coefs4.stan\n",
      "../utils/stan/pem_survival_model_randomwalk_bspline2.stan\n",
      "../utils/stan/pem_survival_model_randomwalk2.stan\n",
      "../utils/stan/pem_survival_model_randomwalk_tvc2.stan\n",
      "../utils/stan/pem_survival_model_randomwalk_bspline.stan\n",
      "../utils/stan/pem_survival_model_varying_coefs3.stan\n",
      "../utils/stan/pem_survival_model_randomwalk.stan\n",
      "../utils/stan/pem_survival_model_gamma.stan\n",
      "../utils/stan/pem_survival_model_randomwalk_bspline_est_xi.stan\n",
      "../utils/stan/pem_survival_model_unstructured_varcoef_hsprior.stan\n",
      "../utils/stan/pem_survival_model_unstructured_varcoef.stan\n",
      "../utils/stan/pem_survival_model_randomwalk_tvc.stan\n",
      "../utils/stan/logistic_model.stan\n",
      "../utils/stan/pem_survival_model_randomwalk_custom_coefs_rate_only.stan\n",
      "../utils/stan/pem_survival_model_randomwalk_bspline_est_xi2.stan\n"
     ]
    }
   ],
   "source": [
    "models = survivalstan.utils.read_files('../utils/stan')"
   ]
  },
  {
   "cell_type": "code",
   "execution_count": 33,
   "metadata": {
    "collapsed": true
   },
   "outputs": [],
   "source": [
    "survstan_pfs_varcoef2 = functools.partial(\n",
    "    survivalstan.fit_stan_survival_model,\n",
    "    df = df_long_pfs,\n",
    "    model_code = models['pem_survival_model_unstructured_varcoef_hsprior.stan'],\n",
    "    timepoint_end_col = 'end_time',\n",
    "    event_col = 'end_failure',\n",
    "    sample_col = 'patient_id',\n",
    "    chains = 4,\n",
    "    iter = 10000,\n",
    "    FIT_FUN = stancache.cached_stan_fit,\n",
    "    grp_coef_type = 'vector-of-vectors',\n",
    "    seed = seed,\n",
    "    stan_data = {'nu': 1} \n",
    "    )"
   ]
  },
  {
   "cell_type": "code",
   "execution_count": 34,
   "metadata": {
    "collapsed": false
   },
   "outputs": [
    {
     "name": "stderr",
     "output_type": "stream",
     "text": [
      "INFO:stancache.stancache:Step 1: Get compiled model code, possibly from cache\n",
      "INFO:stancache.stancache:StanModel: cache_filename set to anon_model.cython_0_25_2.model_code_6577752496410395669.pystan_2_14_0_0.stanmodel.pkl\n",
      "INFO:stancache.stancache:StanModel: Starting execution\n",
      "INFO:pystan:COMPILING THE C++ CODE FOR MODEL anon_model_c3377bc1a36c09afabf5116838435a79 NOW.\n",
      "INFO:stancache.stancache:StanModel: Execution completed (0:01:04.083157 elapsed)\n",
      "INFO:stancache.stancache:StanModel: Saving results to cache\n",
      "INFO:stancache.stancache:Step 2: Get posterior draws from model, possibly from cache\n",
      "INFO:stancache.stancache:sampling: cache_filename set to anon_model.cython_0_25_2.model_code_6577752496410395669.pystan_2_14_0_0.stanfit.chains_4.data_22651645239.iter_10000.sample_file_17974228969897673448.seed_91038753.pkl\n",
      "INFO:stancache.stancache:sampling: Starting execution\n",
      "INFO:stancache.stancache:sampling: Execution completed (0:08:42.949475 elapsed)\n",
      "INFO:stancache.stancache:sampling: Saving results to cache\n"
     ]
    }
   ],
   "source": [
    "tcrclonality_by_pdl12 = survstan_pfs_varcoef2(formula = 'log_peripheral_clonality_a_centered_by_pd_l1', \n",
    "                                              group_col = 'pd_l1',\n",
    "                                              sample_file = os.path.join(sample_file_dir, 'log_clonality_centered_X_pd_l1')\n",
    "                                              )"
   ]
  },
  {
   "cell_type": "code",
   "execution_count": 35,
   "metadata": {
    "collapsed": false
   },
   "outputs": [
    {
     "data": {
      "image/png": "[encoded data removed]",
      "text/plain": [
       "<matplotlib.figure.Figure at 0x7fa7c60e1c90>"
      ]
     },
     "metadata": {},
     "output_type": "display_data"
    }
   ],
   "source": [
    "#paper.hyper_figure_label_printer('hr_tcrclonality_by_pdl1_pfs')\n",
    "current_fig_size = plt.rcParams[\"figure.figsize\"]\n",
    "new_fig_size = [current_fig_size[0]*2, current_fig_size[1]]\n",
    "plt.rcParams[\"figure.figsize\"] = new_fig_size\n",
    "## plot\n",
    "sb.boxplot(data=tcrclonality_by_pdl12['grp_coefs'], x='exp(beta)', y='group', fliersize=0, whis=[2.5, 97.5])\n",
    "_ = plt.xlim([0, 30])\n",
    "_ = plt.vlines(1, -10, 10, linestyles='--')\n",
    "#_ = plt.title('Hazard associated with log(Peripheral clonality at timepoint A) \\n by level of intratumoral PD-L1 expression')\n",
    "_ = plt.xlabel('Hazard Ratio for {}'.format(cohort.benefit_plot_name))\n",
    "## revert width to original size\n",
    "plt.rcParams[\"figure.figsize\"] = current_fig_size"
   ]
  },
  {
   "cell_type": "code",
   "execution_count": 36,
   "metadata": {
    "collapsed": false
   },
   "outputs": [
    {
     "name": "stdout",
     "output_type": "stream",
     "text": [
      "{{{hr_clonality_pfs_hsprior_among_IC0:n=4, HR=1.53, 95% CI (0.61, 3.87)}}}\n",
      "{{{hr_clonality_pfs_hsprior_among_IC1:n=11, HR=0.84, 95% CI (0.18, 1.67)}}}\n",
      "{{{hr_clonality_pfs_hsprior_among_IC2:n=10, HR=111.55, 95% CI (2.45, 660.72)}}}\n"
     ]
    }
   ],
   "source": [
    "tcrclonality_by_pdl12['grp_coefs']['group_label'] = tcrclonality_by_pdl12['grp_coefs'].group.apply(\n",
    "    lambda x: 'hr_clonality_pfs_hsprior_among_{}'.format(x)\n",
    ")\n",
    "for (name, ic_class), group in tcrclonality_by_pdl12['grp_coefs'].groupby(['group_label','group']):\n",
    "    group_n = len(df.loc[df.pd_l1==ic_class,'pd_l1'])\n",
    "    paper.hyper_label_printer(formatter=paper.hr_posterior_formatter,\n",
    "                              label=name, n=group_n,\n",
    "                              series=group['exp(beta)'])"
   ]
  },
  {
   "cell_type": "code",
   "execution_count": 37,
   "metadata": {
    "collapsed": false
   },
   "outputs": [
    {
     "name": "stdout",
     "output_type": "stream",
     "text": [
      "{{{hr_clonality_pfs_hsprior_among_IC0_median:n=4, HR=1.23, 95% CI (0.61, 3.87)}}}\n",
      "{{{hr_clonality_pfs_hsprior_among_IC1_median:n=11, HR=0.88, 95% CI (0.18, 1.67)}}}\n",
      "{{{hr_clonality_pfs_hsprior_among_IC2_median:n=10, HR=31.66, 95% CI (2.45, 660.72)}}}\n"
     ]
    }
   ],
   "source": [
    "tcrclonality_by_pdl12['grp_coefs']['group_label'] = tcrclonality_by_pdl12['grp_coefs'].group.apply(\n",
    "    lambda x: 'hr_clonality_pfs_hsprior_among_{}_median'.format(x)\n",
    ")\n",
    "for (name, ic_class), group in tcrclonality_by_pdl12['grp_coefs'].groupby(['group_label','group']):\n",
    "    group_n = len(df.loc[df.pd_l1==ic_class,'pd_l1'])\n",
    "    paper.hyper_label_printer(formatter=paper.hr_posterior_formatter,\n",
    "                              label=name, n=group_n,\n",
    "                              summary='median',\n",
    "                              series=group['exp(beta)'])"
   ]
  },
  {
   "cell_type": "code",
   "execution_count": 38,
   "metadata": {
    "collapsed": false
   },
   "outputs": [
    {
     "name": "stdout",
     "output_type": "stream",
     "text": [
      "{{{hr_clonality_pfs_hsprior_among_IC0_median:n=4, HR (mean)=1.53, HR (median)=1.23, 95% CI (0.61, 3.87), p(HR>1)=0.24}}}\n",
      "{{{hr_clonality_pfs_hsprior_among_IC1_median:n=11, HR (mean)=0.84, HR (median)=0.88, 95% CI (0.18, 1.67), p(HR<1)=0.38}}}\n",
      "{{{hr_clonality_pfs_hsprior_among_IC2_median:n=10, HR (mean)=111.55, HR (median)=31.66, 95% CI (2.45, 660.72), p(HR>1)=0.0034}}}\n"
     ]
    }
   ],
   "source": [
    "tcrclonality_by_pdl12['grp_coefs']['group_label'] = tcrclonality_by_pdl12['grp_coefs'].group.apply(\n",
    "    lambda x: 'hr_clonality_pfs_hsprior_among_{}_median'.format(x)\n",
    ")\n",
    "for (name, ic_class), group in tcrclonality_by_pdl12['grp_coefs'].groupby(['group_label','group']):\n",
    "    group_n = len(df.loc[df.pd_l1==ic_class,'pd_l1'])\n",
    "    paper.hyper_label_printer(formatter=paper.hr_posterior_formatter,\n",
    "                              label=name, n=group_n,\n",
    "                              summary=['mean','median'],\n",
    "                              series=group['exp(beta)'], include_p=True, p_compare=1)"
   ]
  },
  {
   "cell_type": "markdown",
   "metadata": {
    "collapsed": true
   },
   "source": [
    "## Analysis of correlation with OS, instead of PFS"
   ]
  },
  {
   "cell_type": "code",
   "execution_count": 39,
   "metadata": {
    "collapsed": false
   },
   "outputs": [
    {
     "name": "stderr",
     "output_type": "stream",
     "text": [
      "INFO:stancache.stancache:Step 1: Get compiled model code, possibly from cache\n",
      "INFO:stancache.stancache:StanModel: cache_filename set to anon_model.cython_0_25_2.model_code_9571340839314917516.pystan_2_14_0_0.stanmodel.pkl\n",
      "INFO:stancache.stancache:StanModel: Loading result from cache\n",
      "INFO:stancache.stancache:Step 2: Get posterior draws from model, possibly from cache\n",
      "INFO:stancache.stancache:sampling: cache_filename set to anon_model.cython_0_25_2.model_code_9571340839314917516.pystan_2_14_0_0.stanfit.chains_4.control_81717217759.data_59239852941.iter_10000.seed_91038753.pkl\n",
      "INFO:stancache.stancache:sampling: Starting execution\n",
      "INFO:stancache.stancache:sampling: Execution completed (0:03:05.308877 elapsed)\n",
      "INFO:stancache.stancache:sampling: Saving results to cache\n"
     ]
    }
   ],
   "source": [
    "tcrclonality_by_pdl1_os = survstan_os_varcoef(\n",
    "    formula = 'log_peripheral_clonality_a_centered_by_pd_l1', \n",
    "    group_col = 'pd_l1',\n",
    "    )"
   ]
  },
  {
   "cell_type": "code",
   "execution_count": 40,
   "metadata": {
    "collapsed": false
   },
   "outputs": [
    {
     "name": "stderr",
     "output_type": "stream",
     "text": [
      "INFO:survivalstan.utils:Warning - 17 rows removed due to NaN values for Rhat. This may indicate a problem in your model estimation.\n"
     ]
    },
    {
     "data": {
      "image/png": "[encoded data removed]",
      "text/plain": [
       "<matplotlib.figure.Figure at 0x7fa7c600f190>"
      ]
     },
     "metadata": {},
     "output_type": "display_data"
    }
   ],
   "source": [
    "survivalstan.utils.plot_stan_summary([tcrclonality_by_pdl1_os], metric='Rhat')"
   ]
  },
  {
   "cell_type": "code",
   "execution_count": 41,
   "metadata": {
    "collapsed": false
   },
   "outputs": [
    {
     "name": "stdout",
     "output_type": "stream",
     "text": [
      "{{{tcrclonality_by_pdl1_os}}}\n"
     ]
    },
    {
     "data": {
      "image/png": "[encoded data removed]",
      "text/plain": [
       "<matplotlib.figure.Figure at 0x7fa7c7383510>"
      ]
     },
     "metadata": {},
     "output_type": "display_data"
    }
   ],
   "source": [
    "## capture current figure size\n",
    "paper.hyper_figure_label_printer('tcrclonality_by_pdl1_os')\n",
    "## make this plot much wider than usual\n",
    "current_fig_size = plt.rcParams[\"figure.figsize\"]\n",
    "new_fig_size = [current_fig_size[0]*2, current_fig_size[1]]\n",
    "plt.rcParams[\"figure.figsize\"] = new_fig_size\n",
    "## plot\n",
    "sb.boxplot(data=tcrclonality_by_pdl1_os['grp_coefs'], x='exp(beta)', y='group', fliersize=0, whis=[2.5, 97.5])\n",
    "_ = plt.xlim([0, 50])\n",
    "_ = plt.ylabel('')\n",
    "_ = plt.vlines(1, -10, 10, linestyles='--')\n",
    "#_ = plt.title('Hazard associated with log(Peripheral clonality at timepoint A) \\n by level of intratumoral PD-L1 expression')\n",
    "_ = plt.xlabel('HR for {}'.format(cohort.hazard_os_plot_name))\n",
    "## revert width to original size\n",
    "plt.rcParams[\"figure.figsize\"] = current_fig_size"
   ]
  },
  {
   "cell_type": "code",
   "execution_count": 42,
   "metadata": {
    "collapsed": false
   },
   "outputs": [
    {
     "name": "stdout",
     "output_type": "stream",
     "text": [
      "{{{tcrclonality_by_pdl1_os_split}}}\n"
     ]
    },
    {
     "data": {
      "image/png": "[encoded data removed]",
      "text/plain": [
       "<matplotlib.figure.Figure at 0x7fa7c616eb50>"
      ]
     },
     "metadata": {},
     "output_type": "display_data"
    }
   ],
   "source": [
    "paper.hyper_figure_label_printer('tcrclonality_by_pdl1_os_split')\n",
    "## plot side-by-side zoomed & unzoomed plots\n",
    "f, (ax1, ax2) = plt.subplots(1, 2, sharey=True)\n",
    "sb.boxplot(data=tcrclonality_by_pdl1_os['grp_coefs'],\n",
    "           x='exp(beta)',\n",
    "           y='group',\n",
    "           fliersize=0,\n",
    "           whis=[2.5, 97.5], \n",
    "           ax=ax1,\n",
    "          )\n",
    "ax1.set_xlim([0, 5.])\n",
    "ax1.set_ylabel('')\n",
    "ax1.spines['right'].set_visible(False)\n",
    "ax2.spines['left'].set_visible(False)\n",
    "#ax1.set_yticklabels([0,1,2],['','',''])\n",
    "#ax1.vlines(1, -10, 10, linestyles='--')\n",
    "#ax1.set_yticks([0])\n",
    "#ax1.get_yaxis().set_visible(False)\n",
    "\n",
    "sb.boxplot(data=tcrclonality_by_pdl1_os['grp_coefs'],\n",
    "           x='exp(beta)',\n",
    "           y='group',\n",
    "           fliersize=0,\n",
    "           whis=[2.5, 97.5],\n",
    "           ax=ax2,\n",
    "          )\n",
    "ax2.set_xlim([5.7, 1000])\n",
    "ax2.set_ylabel('')\n",
    "\n",
    "d = .015  # how big to make the diagonal lines in axes coordinates\n",
    "# arguments to pass plot, just so we don't keep repeating them\n",
    "kwargs = dict(transform=ax1.transAxes, color='k', clip_on=False)\n",
    "ax1.plot((1 - d, 1 + d), (-d, +d), **kwargs)  # bottom-right diagonal\n",
    "ax1.plot((1 - d, 1 + d), (1 - d, 1 + d), **kwargs)  # top-right diagonal\n",
    "\n",
    "kwargs.update(transform=ax2.transAxes)  # switch to the bottom axes\n",
    "ax2.plot((-d, +d), (1 - d, 1 + d), **kwargs)  # top-left diagonal\n",
    "ax2.plot((-d, +d), (-d, +d), **kwargs)  # bottom-left diagonal\n",
    "\n",
    "ax1.vlines(1, -10, 10, linestyles='--')\n",
    "ax1.set_xlabel('HR for {}'.format(cohort.hazard_os_plot_name))\n",
    "ax2.set_xlabel('')\n",
    "## rotate labels on x axis\n",
    "_ = plt.setp(ax1.get_xticklabels(), rotation=0)\n",
    "_ = plt.setp(ax2.get_xticklabels(), rotation=45)"
   ]
  },
  {
   "cell_type": "code",
   "execution_count": null,
   "metadata": {
    "collapsed": true
   },
   "outputs": [],
   "source": []
  },
  {
   "cell_type": "code",
   "execution_count": null,
   "metadata": {
    "collapsed": true
   },
   "outputs": [],
   "source": []
  }
 ],
 "metadata": {
  "anaconda-cloud": {},
  "kernelspec": {
   "display_name": "Python [conda env:newbladder2]",
   "language": "python",
   "name": "conda-env-newbladder2-py"
  },
  "language_info": {
   "codemirror_mode": {
    "name": "ipython",
    "version": 2
   },
   "file_extension": ".py",
   "mimetype": "text/x-python",
   "name": "python",
   "nbconvert_exporter": "python",
   "pygments_lexer": "ipython2",
   "version": "2.7.13"
  },
  "name": "TCR Clonality.ipynb",
  "nav_menu": {},
  "toc": {
   "navigate_menu": true,
   "number_sections": true,
   "sideBar": true,
   "threshold": 6,
   "toc_cell": false,
   "toc_section_display": "block",
   "toc_window_display": true
  },
  "toc_position": {
   "height": "877px",
   "left": "0px",
   "right": "2073px",
   "top": "106px",
   "width": "538px"
  }
 },
 "nbformat": 4,
 "nbformat_minor": 0
}
